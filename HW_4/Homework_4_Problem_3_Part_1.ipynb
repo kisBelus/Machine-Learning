{
  "nbformat": 4,
  "nbformat_minor": 0,
  "metadata": {
    "colab": {
      "name": "Homework 4 Problem 3 Part 1",
      "provenance": [],
      "collapsed_sections": [],
      "include_colab_link": true
    },
    "kernelspec": {
      "name": "python3",
      "display_name": "Python 3"
    },
    "accelerator": "GPU"
  },
  "cells": [
    {
      "cell_type": "markdown",
      "metadata": {
        "id": "view-in-github",
        "colab_type": "text"
      },
      "source": [
        "<a href=\"https://colab.research.google.com/github/kisBelus/Machine-Learning/blob/master/HW_4/Homework_4_Problem_3_Part_1.ipynb\" target=\"_parent\"><img src=\"https://colab.research.google.com/assets/colab-badge.svg\" alt=\"Open In Colab\"/></a>"
      ]
    },
    {
      "cell_type": "markdown",
      "metadata": {
        "id": "KSrgMJ5vKFzQ",
        "colab_type": "text"
      },
      "source": [
        "# Fine-tuning VGG16 "
      ]
    },
    {
      "cell_type": "markdown",
      "metadata": {
        "id": "TIW7bZaAK-Hf",
        "colab_type": "text"
      },
      "source": [
        "This is based on section 5.3 *Using a pretrained convnet* of the book *Deep learning with Python* by Francois Chollet. I have made several changes to the code. I use the data that is already provided by Google. I don't download the data from Kaggle as in the deep learning book."
      ]
    },
    {
      "cell_type": "markdown",
      "metadata": {
        "id": "nsBq__dVo2pj",
        "colab_type": "text"
      },
      "source": [
        "## Feature extraction"
      ]
    },
    {
      "cell_type": "markdown",
      "metadata": {
        "id": "0g6ETAM9o54M",
        "colab_type": "text"
      },
      "source": [
        "Feature extraction consists of using the representations learned by a previous network to extract interesting features from new samples. These features are then run through a new classifier, which is trained from scratch.\n",
        "\n",
        "We will use here the convolutional base of the VGG16 model to extract the features. We will feed these features to a densely connected classifier with dropout. We will fine-tune some layers."
      ]
    },
    {
      "cell_type": "markdown",
      "metadata": {
        "id": "BqIG8QHMLNOn",
        "colab_type": "text"
      },
      "source": [
        "## Download the data"
      ]
    },
    {
      "cell_type": "markdown",
      "metadata": {
        "id": "t3I1jd7cKV6_",
        "colab_type": "text"
      },
      "source": [
        "Download the example data, a zip. of 2,000 JPG pictures of cats and dogs and extract it locally in ```/tmp```.\n",
        "\n"
      ]
    },
    {
      "cell_type": "code",
      "metadata": {
        "id": "JWjprHEXJ5Qi",
        "colab_type": "code",
        "outputId": "691f0a44-aedf-4024-8b2f-acfc7526dd44",
        "colab": {
          "base_uri": "https://localhost:8080/",
          "height": 202
        }
      },
      "source": [
        "!wget --no-check-certificate \\\n",
        "    https://storage.googleapis.com/mledu-datasets/cats_and_dogs_filtered.zip \\\n",
        "    -O /tmp/cats_and_dogs_filtered.zip"
      ],
      "execution_count": 0,
      "outputs": [
        {
          "output_type": "stream",
          "text": [
            "--2020-04-15 22:28:33--  https://storage.googleapis.com/mledu-datasets/cats_and_dogs_filtered.zip\n",
            "Resolving storage.googleapis.com (storage.googleapis.com)... 172.217.194.128, 2404:6800:4003:c01::80\n",
            "Connecting to storage.googleapis.com (storage.googleapis.com)|172.217.194.128|:443... connected.\n",
            "HTTP request sent, awaiting response... 200 OK\n",
            "Length: 68606236 (65M) [application/zip]\n",
            "Saving to: ‘/tmp/cats_and_dogs_filtered.zip’\n",
            "\n",
            "/tmp/cats_and_dogs_ 100%[===================>]  65.43M  98.4MB/s    in 0.7s    \n",
            "\n",
            "2020-04-15 22:28:34 (98.4 MB/s) - ‘/tmp/cats_and_dogs_filtered.zip’ saved [68606236/68606236]\n",
            "\n"
          ],
          "name": "stdout"
        }
      ]
    },
    {
      "cell_type": "code",
      "metadata": {
        "id": "WvoHtdA-K6Rw",
        "colab_type": "code",
        "colab": {}
      },
      "source": [
        "import os\n",
        "import zipfile\n",
        "\n",
        "local_zip = '/tmp/cats_and_dogs_filtered.zip'\n",
        "zip_ref = zipfile.ZipFile(local_zip, 'r')\n",
        "zip_ref.extractall('/tmp')\n",
        "zip_ref.close()"
      ],
      "execution_count": 0,
      "outputs": []
    },
    {
      "cell_type": "markdown",
      "metadata": {
        "id": "shZiOBnJMyy_",
        "colab_type": "text"
      },
      "source": [
        "Note that the data provided by Google does not have a test set."
      ]
    },
    {
      "cell_type": "code",
      "metadata": {
        "id": "dL8ikM89LlsH",
        "colab_type": "code",
        "colab": {}
      },
      "source": [
        "base_dir = '/tmp/cats_and_dogs_filtered'\n",
        "train_dir = os.path.join(base_dir, 'train')\n",
        "validation_dir = os.path.join(base_dir, 'validation')\n",
        "\n",
        "# Directory with our training cat pictures\n",
        "train_cats_dir = os.path.join(train_dir, 'cats')\n",
        "\n",
        "# Directory with our training dog pictures\n",
        "train_dogs_dir = os.path.join(train_dir, 'dogs')\n",
        "\n",
        "# Directory with our validation cat pictures\n",
        "validation_cats_dir = os.path.join(validation_dir, 'cats')\n",
        "\n",
        "# Directory with our validation dog pictures\n",
        "validation_dogs_dir = os.path.join(validation_dir, 'dogs')"
      ],
      "execution_count": 0,
      "outputs": []
    },
    {
      "cell_type": "markdown",
      "metadata": {
        "id": "inyP8bcdXnn-",
        "colab_type": "text"
      },
      "source": [
        "## Build network with VGG16 convolution base and custom densely connected layers"
      ]
    },
    {
      "cell_type": "markdown",
      "metadata": {
        "id": "kQ48W5T9rHWu",
        "colab_type": "text"
      },
      "source": [
        "### Load the convolutional base"
      ]
    },
    {
      "cell_type": "code",
      "metadata": {
        "id": "Y0FgtANCXm_H",
        "colab_type": "code",
        "outputId": "ba65b675-2cdf-4ff3-dd75-c62efab62808",
        "colab": {
          "base_uri": "https://localhost:8080/",
          "height": 50
        }
      },
      "source": [
        "from keras.applications import ResNet50V2\n",
        "\n",
        "conv_base = ResNet50V2(\n",
        "    weights='imagenet', \n",
        "    include_top=False, \n",
        "    input_shape=(150, 150, 3))"
      ],
      "execution_count": 0,
      "outputs": [
        {
          "output_type": "stream",
          "text": [
            "Downloading data from https://github.com/keras-team/keras-applications/releases/download/resnet/resnet50v2_weights_tf_dim_ordering_tf_kernels_notop.h5\n",
            "94674944/94668760 [==============================] - 8s 0us/step\n"
          ],
          "name": "stdout"
        }
      ]
    },
    {
      "cell_type": "markdown",
      "metadata": {
        "id": "D6OBHOO9q1ou",
        "colab_type": "text"
      },
      "source": [
        "### Freeze the convolutional base"
      ]
    },
    {
      "cell_type": "code",
      "metadata": {
        "id": "UleRo4Dpq6Ld",
        "colab_type": "code",
        "colab": {}
      },
      "source": [
        "conv_base.trainable = False"
      ],
      "execution_count": 0,
      "outputs": []
    },
    {
      "cell_type": "markdown",
      "metadata": {
        "id": "Qfx6PqhPrb7Q",
        "colab_type": "text"
      },
      "source": [
        "### Concatenate the convolutional base and densely connected layers"
      ]
    },
    {
      "cell_type": "code",
      "metadata": {
        "id": "qUpmocDAO3xm",
        "colab_type": "code",
        "colab": {}
      },
      "source": [
        "from keras import layers\n",
        "from keras import models\n",
        "from keras import optimizers\n",
        "\n",
        "model = models.Sequential()\n",
        "model.add(conv_base)\n",
        "model.add(layers.Flatten())\n",
        "model.add(layers.Dense(256, activation='relu'))\n",
        "model.add(layers.Dense(2, activation='relu'))\n",
        "#model.add(layers.Dropout(0.1))\n",
        "model.add(layers.Dense(1, activation='sigmoid'))"
      ],
      "execution_count": 0,
      "outputs": []
    },
    {
      "cell_type": "code",
      "metadata": {
        "id": "Fh6gZSeAjF7c",
        "colab_type": "code",
        "outputId": "aa46899d-2b75-4527-c782-b56196aae35e",
        "colab": {
          "base_uri": "https://localhost:8080/",
          "height": 319
        }
      },
      "source": [
        "model.summary()"
      ],
      "execution_count": 0,
      "outputs": [
        {
          "output_type": "stream",
          "text": [
            "Model: \"sequential_15\"\n",
            "_________________________________________________________________\n",
            "Layer (type)                 Output Shape              Param #   \n",
            "=================================================================\n",
            "resnet50v2 (Model)           (None, 5, 5, 2048)        23564800  \n",
            "_________________________________________________________________\n",
            "flatten_11 (Flatten)         (None, 51200)             0         \n",
            "_________________________________________________________________\n",
            "dense_32 (Dense)             (None, 256)               13107456  \n",
            "_________________________________________________________________\n",
            "dense_33 (Dense)             (None, 2)                 514       \n",
            "_________________________________________________________________\n",
            "dense_34 (Dense)             (None, 1)                 3         \n",
            "=================================================================\n",
            "Total params: 36,672,773\n",
            "Trainable params: 13,107,973\n",
            "Non-trainable params: 23,564,800\n",
            "_________________________________________________________________\n"
          ],
          "name": "stdout"
        }
      ]
    },
    {
      "cell_type": "markdown",
      "metadata": {
        "id": "eZjBiddhi5Qj",
        "colab_type": "text"
      },
      "source": [
        "## Train the model end to end with frozen convolutional base"
      ]
    },
    {
      "cell_type": "code",
      "metadata": {
        "id": "tfAQlC2Oi41L",
        "colab_type": "code",
        "outputId": "ccffc0ca-1680-4306-bca1-a9ed241a2ca1",
        "colab": {
          "base_uri": "https://localhost:8080/",
          "height": 1000
        }
      },
      "source": [
        "from keras.preprocessing.image import ImageDataGenerator\n",
        "from keras import optimizers\n",
        "\n",
        "# data augmentation\n",
        "\n",
        "train_datagen = ImageDataGenerator(\n",
        "    rescale=1./255, \n",
        "    rotation_range=40,\n",
        "    width_shift_range=0.2,\n",
        "    height_shift_range=0.2,\n",
        "    shear_range=0.2,\n",
        "    zoom_range=0.2,\n",
        "    horizontal_flip=True,\n",
        "    fill_mode='nearest'\n",
        ")\n",
        "\n",
        "train_generator = train_datagen.flow_from_directory(\n",
        "    train_dir,\n",
        "    target_size=(150, 150),\n",
        "    batch_size=20,\n",
        "    class_mode='binary')\n",
        "\n",
        "validation_datagen = ImageDataGenerator(rescale=1./255)\n",
        "\n",
        "validation_generator = validation_datagen.flow_from_directory(\n",
        "    validation_dir,\n",
        "    target_size=(150, 150),\n",
        "    batch_size=20,\n",
        "    class_mode='binary')\n",
        "\n",
        "# compile model\n",
        "\n",
        "model.compile(\n",
        "    loss='binary_crossentropy', \n",
        "    optimizer=optimizers.RMSprop(lr=2e-5), \n",
        "    metrics=['acc'])\n",
        "\n",
        "# train\n",
        "\n",
        "history = model.fit_generator(\n",
        "    train_generator,\n",
        "    steps_per_epoch=100,\n",
        "    epochs=30,\n",
        "    validation_data=validation_generator,\n",
        "    validation_steps=50\n",
        ")"
      ],
      "execution_count": 0,
      "outputs": [
        {
          "output_type": "stream",
          "text": [
            "Found 2000 images belonging to 2 classes.\n",
            "Found 1000 images belonging to 2 classes.\n",
            "Epoch 1/30\n",
            "100/100 [==============================] - 23s 225ms/step - loss: 0.4887 - acc: 0.7640 - val_loss: 0.0010 - val_acc: 0.9440\n",
            "Epoch 2/30\n",
            "100/100 [==============================] - 19s 187ms/step - loss: 0.4013 - acc: 0.8090 - val_loss: 0.3562 - val_acc: 0.9440\n",
            "Epoch 3/30\n",
            "100/100 [==============================] - 19s 187ms/step - loss: 0.3455 - acc: 0.8510 - val_loss: 0.2009 - val_acc: 0.9610\n",
            "Epoch 4/30\n",
            "100/100 [==============================] - 19s 186ms/step - loss: 0.3625 - acc: 0.8485 - val_loss: 0.0045 - val_acc: 0.9580\n",
            "Epoch 5/30\n",
            "100/100 [==============================] - 19s 187ms/step - loss: 0.3515 - acc: 0.8565 - val_loss: 0.0817 - val_acc: 0.9560\n",
            "Epoch 6/30\n",
            "100/100 [==============================] - 19s 187ms/step - loss: 0.3320 - acc: 0.8645 - val_loss: 0.2048 - val_acc: 0.9600\n",
            "Epoch 7/30\n",
            "100/100 [==============================] - 19s 186ms/step - loss: 0.2932 - acc: 0.8785 - val_loss: 0.0083 - val_acc: 0.9590\n",
            "Epoch 8/30\n",
            "100/100 [==============================] - 19s 185ms/step - loss: 0.2821 - acc: 0.8840 - val_loss: 0.8012 - val_acc: 0.9620\n",
            "Epoch 9/30\n",
            "100/100 [==============================] - 19s 186ms/step - loss: 0.2855 - acc: 0.8835 - val_loss: 1.7642e-04 - val_acc: 0.9630\n",
            "Epoch 10/30\n",
            "100/100 [==============================] - 19s 186ms/step - loss: 0.2633 - acc: 0.8895 - val_loss: 0.7255 - val_acc: 0.9680\n",
            "Epoch 11/30\n",
            "100/100 [==============================] - 19s 186ms/step - loss: 0.3009 - acc: 0.8810 - val_loss: 0.0672 - val_acc: 0.9690\n",
            "Epoch 12/30\n",
            "100/100 [==============================] - 18s 185ms/step - loss: 0.2930 - acc: 0.8810 - val_loss: 0.7383 - val_acc: 0.9670\n",
            "Epoch 13/30\n",
            "100/100 [==============================] - 19s 186ms/step - loss: 0.2956 - acc: 0.8845 - val_loss: 0.0145 - val_acc: 0.9680\n",
            "Epoch 14/30\n",
            "100/100 [==============================] - 19s 187ms/step - loss: 0.2869 - acc: 0.8955 - val_loss: 0.0400 - val_acc: 0.9610\n",
            "Epoch 15/30\n",
            "100/100 [==============================] - 19s 186ms/step - loss: 0.2892 - acc: 0.8860 - val_loss: 0.0093 - val_acc: 0.9670\n",
            "Epoch 16/30\n",
            "100/100 [==============================] - 18s 185ms/step - loss: 0.2998 - acc: 0.8935 - val_loss: 0.7134 - val_acc: 0.9670\n",
            "Epoch 17/30\n",
            "100/100 [==============================] - 19s 186ms/step - loss: 0.2644 - acc: 0.8955 - val_loss: 0.4055 - val_acc: 0.9650\n",
            "Epoch 18/30\n",
            "100/100 [==============================] - 19s 186ms/step - loss: 0.2441 - acc: 0.9060 - val_loss: 0.0025 - val_acc: 0.9680\n",
            "Epoch 19/30\n",
            "100/100 [==============================] - 19s 187ms/step - loss: 0.2475 - acc: 0.9075 - val_loss: 0.0642 - val_acc: 0.9690\n",
            "Epoch 20/30\n",
            "100/100 [==============================] - 19s 188ms/step - loss: 0.2704 - acc: 0.8975 - val_loss: 0.0436 - val_acc: 0.9660\n",
            "Epoch 21/30\n",
            "100/100 [==============================] - 19s 185ms/step - loss: 0.2640 - acc: 0.8955 - val_loss: 1.9789e-04 - val_acc: 0.9650\n",
            "Epoch 22/30\n",
            "100/100 [==============================] - 19s 185ms/step - loss: 0.2685 - acc: 0.8975 - val_loss: 0.3260 - val_acc: 0.9590\n",
            "Epoch 23/30\n",
            "100/100 [==============================] - 19s 185ms/step - loss: 0.2330 - acc: 0.9030 - val_loss: 8.8248e-10 - val_acc: 0.9670\n",
            "Epoch 24/30\n",
            "100/100 [==============================] - 18s 185ms/step - loss: 0.2203 - acc: 0.9135 - val_loss: 0.0018 - val_acc: 0.9690\n",
            "Epoch 25/30\n",
            "100/100 [==============================] - 19s 185ms/step - loss: 0.2303 - acc: 0.9110 - val_loss: 6.2566e-06 - val_acc: 0.9630\n",
            "Epoch 26/30\n",
            "100/100 [==============================] - 19s 185ms/step - loss: 0.2235 - acc: 0.9140 - val_loss: 0.0078 - val_acc: 0.9680\n",
            "Epoch 27/30\n",
            "100/100 [==============================] - 19s 186ms/step - loss: 0.2264 - acc: 0.9115 - val_loss: 3.6825e-04 - val_acc: 0.9590\n",
            "Epoch 28/30\n",
            "100/100 [==============================] - 19s 185ms/step - loss: 0.2146 - acc: 0.9170 - val_loss: 0.3145 - val_acc: 0.9670\n",
            "Epoch 29/30\n",
            "100/100 [==============================] - 18s 185ms/step - loss: 0.2404 - acc: 0.9125 - val_loss: 0.2042 - val_acc: 0.9680\n",
            "Epoch 30/30\n",
            "100/100 [==============================] - 18s 185ms/step - loss: 0.2135 - acc: 0.9065 - val_loss: 7.0835e-04 - val_acc: 0.9620\n"
          ],
          "name": "stdout"
        }
      ]
    },
    {
      "cell_type": "markdown",
      "metadata": {
        "id": "xqRc_vHKc92U",
        "colab_type": "text"
      },
      "source": [
        "## Display curves of loss and accuracy during training"
      ]
    },
    {
      "cell_type": "code",
      "metadata": {
        "id": "ybWwdzz9bwuQ",
        "colab_type": "code",
        "outputId": "e340f1d1-fc8f-46bb-8aca-11a5f75679b4",
        "colab": {
          "base_uri": "https://localhost:8080/",
          "height": 545
        }
      },
      "source": [
        "%matplotlib inline\n",
        "\n",
        "import matplotlib.pyplot as plt\n",
        "\n",
        "acc = history.history['acc']\n",
        "val_acc = history.history['val_acc']\n",
        "\n",
        "loss = history.history['loss']\n",
        "val_loss = history.history['val_loss']\n",
        "\n",
        "epochs = range(1, len(acc) + 1)\n",
        "\n",
        "# training and validation accuracy\n",
        "\n",
        "plt.plot(epochs, acc, 'bo', label='training acc')\n",
        "plt.plot(epochs, val_acc, 'b', label='validation acc')\n",
        "plt.title('training and validation accuracy')\n",
        "plt.legend()\n",
        "\n",
        "plt.figure()\n",
        "\n",
        "# training and validation loss\n",
        "\n",
        "plt.plot(epochs, loss, 'bo', label='training loss')\n",
        "plt.plot(epochs, val_loss, 'b', label='validation loss')\n",
        "plt.title('training and validation loss')\n",
        "plt.legend()\n",
        "\n",
        "plt.show()"
      ],
      "execution_count": 0,
      "outputs": [
        {
          "output_type": "display_data",
          "data": {
            "image/png": "[encoded data removed]",
            "text/plain": [
              "<Figure size 432x288 with 1 Axes>"
            ]
          },
          "metadata": {
            "tags": [],
            "needs_background": "light"
          }
        },
        {
          "output_type": "display_data",
          "data": {
            "image/png": "[encoded data removed]",
            "text/plain": [
              "<Figure size 432x288 with 1 Axes>"
            ]
          },
          "metadata": {
            "tags": [],
            "needs_background": "light"
          }
        }
      ]
    },
    {
      "cell_type": "markdown",
      "metadata": {
        "id": "lOWsxpey8lN0",
        "colab_type": "text"
      },
      "source": [
        "## Fine-tuning"
      ]
    },
    {
      "cell_type": "code",
      "metadata": {
        "id": "T1F1jmbG-tnN",
        "colab_type": "code",
        "outputId": "2687e85a-d231-4656-967a-9833cec7a8d6",
        "colab": {
          "base_uri": "https://localhost:8080/",
          "height": 1000
        }
      },
      "source": [
        "for layer in conv_base.layers:\n",
        "  print(layer.name)"
      ],
      "execution_count": 0,
      "outputs": [
        {
          "output_type": "stream",
          "text": [
            "input_8\n",
            "conv1_pad\n",
            "conv1_conv\n",
            "pool1_pad\n",
            "pool1_pool\n",
            "conv2_block1_preact_bn\n",
            "conv2_block1_preact_relu\n",
            "conv2_block1_1_conv\n",
            "conv2_block1_1_bn\n",
            "conv2_block1_1_relu\n",
            "conv2_block1_2_pad\n",
            "conv2_block1_2_conv\n",
            "conv2_block1_2_bn\n",
            "conv2_block1_2_relu\n",
            "conv2_block1_0_conv\n",
            "conv2_block1_3_conv\n",
            "conv2_block1_out\n",
            "conv2_block2_preact_bn\n",
            "conv2_block2_preact_relu\n",
            "conv2_block2_1_conv\n",
            "conv2_block2_1_bn\n",
            "conv2_block2_1_relu\n",
            "conv2_block2_2_pad\n",
            "conv2_block2_2_conv\n",
            "conv2_block2_2_bn\n",
            "conv2_block2_2_relu\n",
            "conv2_block2_3_conv\n",
            "conv2_block2_out\n",
            "conv2_block3_preact_bn\n",
            "conv2_block3_preact_relu\n",
            "conv2_block3_1_conv\n",
            "conv2_block3_1_bn\n",
            "conv2_block3_1_relu\n",
            "conv2_block3_2_pad\n",
            "conv2_block3_2_conv\n",
            "conv2_block3_2_bn\n",
            "conv2_block3_2_relu\n",
            "max_pooling2d_9\n",
            "conv2_block3_3_conv\n",
            "conv2_block3_out\n",
            "conv3_block1_preact_bn\n",
            "conv3_block1_preact_relu\n",
            "conv3_block1_1_conv\n",
            "conv3_block1_1_bn\n",
            "conv3_block1_1_relu\n",
            "conv3_block1_2_pad\n",
            "conv3_block1_2_conv\n",
            "conv3_block1_2_bn\n",
            "conv3_block1_2_relu\n",
            "conv3_block1_0_conv\n",
            "conv3_block1_3_conv\n",
            "conv3_block1_out\n",
            "conv3_block2_preact_bn\n",
            "conv3_block2_preact_relu\n",
            "conv3_block2_1_conv\n",
            "conv3_block2_1_bn\n",
            "conv3_block2_1_relu\n",
            "conv3_block2_2_pad\n",
            "conv3_block2_2_conv\n",
            "conv3_block2_2_bn\n",
            "conv3_block2_2_relu\n",
            "conv3_block2_3_conv\n",
            "conv3_block2_out\n",
            "conv3_block3_preact_bn\n",
            "conv3_block3_preact_relu\n",
            "conv3_block3_1_conv\n",
            "conv3_block3_1_bn\n",
            "conv3_block3_1_relu\n",
            "conv3_block3_2_pad\n",
            "conv3_block3_2_conv\n",
            "conv3_block3_2_bn\n",
            "conv3_block3_2_relu\n",
            "conv3_block3_3_conv\n",
            "conv3_block3_out\n",
            "conv3_block4_preact_bn\n",
            "conv3_block4_preact_relu\n",
            "conv3_block4_1_conv\n",
            "conv3_block4_1_bn\n",
            "conv3_block4_1_relu\n",
            "conv3_block4_2_pad\n",
            "conv3_block4_2_conv\n",
            "conv3_block4_2_bn\n",
            "conv3_block4_2_relu\n",
            "max_pooling2d_10\n",
            "conv3_block4_3_conv\n",
            "conv3_block4_out\n",
            "conv4_block1_preact_bn\n",
            "conv4_block1_preact_relu\n",
            "conv4_block1_1_conv\n",
            "conv4_block1_1_bn\n",
            "conv4_block1_1_relu\n",
            "conv4_block1_2_pad\n",
            "conv4_block1_2_conv\n",
            "conv4_block1_2_bn\n",
            "conv4_block1_2_relu\n",
            "conv4_block1_0_conv\n",
            "conv4_block1_3_conv\n",
            "conv4_block1_out\n",
            "conv4_block2_preact_bn\n",
            "conv4_block2_preact_relu\n",
            "conv4_block2_1_conv\n",
            "conv4_block2_1_bn\n",
            "conv4_block2_1_relu\n",
            "conv4_block2_2_pad\n",
            "conv4_block2_2_conv\n",
            "conv4_block2_2_bn\n",
            "conv4_block2_2_relu\n",
            "conv4_block2_3_conv\n",
            "conv4_block2_out\n",
            "conv4_block3_preact_bn\n",
            "conv4_block3_preact_relu\n",
            "conv4_block3_1_conv\n",
            "conv4_block3_1_bn\n",
            "conv4_block3_1_relu\n",
            "conv4_block3_2_pad\n",
            "conv4_block3_2_conv\n",
            "conv4_block3_2_bn\n",
            "conv4_block3_2_relu\n",
            "conv4_block3_3_conv\n",
            "conv4_block3_out\n",
            "conv4_block4_preact_bn\n",
            "conv4_block4_preact_relu\n",
            "conv4_block4_1_conv\n",
            "conv4_block4_1_bn\n",
            "conv4_block4_1_relu\n",
            "conv4_block4_2_pad\n",
            "conv4_block4_2_conv\n",
            "conv4_block4_2_bn\n",
            "conv4_block4_2_relu\n",
            "conv4_block4_3_conv\n",
            "conv4_block4_out\n",
            "conv4_block5_preact_bn\n",
            "conv4_block5_preact_relu\n",
            "conv4_block5_1_conv\n",
            "conv4_block5_1_bn\n",
            "conv4_block5_1_relu\n",
            "conv4_block5_2_pad\n",
            "conv4_block5_2_conv\n",
            "conv4_block5_2_bn\n",
            "conv4_block5_2_relu\n",
            "conv4_block5_3_conv\n",
            "conv4_block5_out\n",
            "conv4_block6_preact_bn\n",
            "conv4_block6_preact_relu\n",
            "conv4_block6_1_conv\n",
            "conv4_block6_1_bn\n",
            "conv4_block6_1_relu\n",
            "conv4_block6_2_pad\n",
            "conv4_block6_2_conv\n",
            "conv4_block6_2_bn\n",
            "conv4_block6_2_relu\n",
            "max_pooling2d_11\n",
            "conv4_block6_3_conv\n",
            "conv4_block6_out\n",
            "conv5_block1_preact_bn\n",
            "conv5_block1_preact_relu\n",
            "conv5_block1_1_conv\n",
            "conv5_block1_1_bn\n",
            "conv5_block1_1_relu\n",
            "conv5_block1_2_pad\n",
            "conv5_block1_2_conv\n",
            "conv5_block1_2_bn\n",
            "conv5_block1_2_relu\n",
            "conv5_block1_0_conv\n",
            "conv5_block1_3_conv\n",
            "conv5_block1_out\n",
            "conv5_block2_preact_bn\n",
            "conv5_block2_preact_relu\n",
            "conv5_block2_1_conv\n",
            "conv5_block2_1_bn\n",
            "conv5_block2_1_relu\n",
            "conv5_block2_2_pad\n",
            "conv5_block2_2_conv\n",
            "conv5_block2_2_bn\n",
            "conv5_block2_2_relu\n",
            "conv5_block2_3_conv\n",
            "conv5_block2_out\n",
            "conv5_block3_preact_bn\n",
            "conv5_block3_preact_relu\n",
            "conv5_block3_1_conv\n",
            "conv5_block3_1_bn\n",
            "conv5_block3_1_relu\n",
            "conv5_block3_2_pad\n",
            "conv5_block3_2_conv\n",
            "conv5_block3_2_bn\n",
            "conv5_block3_2_relu\n",
            "conv5_block3_3_conv\n",
            "conv5_block3_out\n",
            "post_bn\n",
            "post_relu\n"
          ],
          "name": "stdout"
        }
      ]
    },
    {
      "cell_type": "code",
      "metadata": {
        "id": "PwkVMx8N8qMw",
        "colab_type": "code",
        "colab": {}
      },
      "source": [
        "conv_base.trainable = True\n",
        "\n",
        "set_trainable = False\n",
        "for layer in conv_base.layers:\n",
        "  if layer.name == 'conv5_block1_preact_bn':\n",
        "    set_trainable = True\n",
        "  if set_trainable:\n",
        "    layer.trainable = True\n",
        "  else:\n",
        "    layer.trainable = False"
      ],
      "execution_count": 0,
      "outputs": []
    },
    {
      "cell_type": "code",
      "metadata": {
        "id": "DyN-J7rs9cvo",
        "colab_type": "code",
        "outputId": "6fcda674-6b46-433d-f2ec-6e36a27a946d",
        "colab": {
          "base_uri": "https://localhost:8080/",
          "height": 1000
        }
      },
      "source": [
        "# compile model\n",
        "\n",
        "model.compile(\n",
        "    loss='binary_crossentropy',\n",
        "    #\n",
        "    # choose a smaller learning rate\n",
        "    #\n",
        "    optimizer=optimizers.RMSprop(lr=1e-5), \n",
        "    metrics=['acc'])\n",
        "\n",
        "# train\n",
        "\n",
        "history = model.fit_generator(\n",
        "    train_generator,\n",
        "    steps_per_epoch=100,\n",
        "    epochs=100,\n",
        "    validation_data=validation_generator,\n",
        "    validation_steps=50)"
      ],
      "execution_count": 0,
      "outputs": [
        {
          "output_type": "stream",
          "text": [
            "Epoch 1/100\n",
            "100/100 [==============================] - 26s 264ms/step - loss: 0.2280 - acc: 0.9095 - val_loss: 0.1319 - val_acc: 0.9410\n",
            "Epoch 2/100\n",
            "100/100 [==============================] - 21s 209ms/step - loss: 0.2031 - acc: 0.9230 - val_loss: 0.7491 - val_acc: 0.9300\n",
            "Epoch 3/100\n",
            "100/100 [==============================] - 21s 208ms/step - loss: 0.1872 - acc: 0.9335 - val_loss: 0.0698 - val_acc: 0.9370\n",
            "Epoch 4/100\n",
            "100/100 [==============================] - 21s 209ms/step - loss: 0.1894 - acc: 0.9275 - val_loss: 0.1206 - val_acc: 0.9400\n",
            "Epoch 5/100\n",
            "100/100 [==============================] - 21s 208ms/step - loss: 0.1614 - acc: 0.9355 - val_loss: 0.0530 - val_acc: 0.9440\n",
            "Epoch 6/100\n",
            "100/100 [==============================] - 21s 209ms/step - loss: 0.1839 - acc: 0.9250 - val_loss: 0.3385 - val_acc: 0.9440\n",
            "Epoch 7/100\n",
            "100/100 [==============================] - 21s 207ms/step - loss: 0.1880 - acc: 0.9265 - val_loss: 0.1260 - val_acc: 0.9420\n",
            "Epoch 8/100\n",
            "100/100 [==============================] - 21s 208ms/step - loss: 0.1869 - acc: 0.9305 - val_loss: 0.2113 - val_acc: 0.9390\n",
            "Epoch 9/100\n",
            "100/100 [==============================] - 21s 208ms/step - loss: 0.1714 - acc: 0.9380 - val_loss: 0.4501 - val_acc: 0.9430\n",
            "Epoch 10/100\n",
            "100/100 [==============================] - 21s 209ms/step - loss: 0.1568 - acc: 0.9390 - val_loss: 0.2410 - val_acc: 0.9390\n",
            "Epoch 11/100\n",
            "100/100 [==============================] - 21s 208ms/step - loss: 0.1475 - acc: 0.9430 - val_loss: 0.6054 - val_acc: 0.9450\n",
            "Epoch 12/100\n",
            "100/100 [==============================] - 21s 208ms/step - loss: 0.1505 - acc: 0.9410 - val_loss: 0.5409 - val_acc: 0.9440\n",
            "Epoch 13/100\n",
            "100/100 [==============================] - 21s 209ms/step - loss: 0.1519 - acc: 0.9410 - val_loss: 0.0400 - val_acc: 0.9440\n",
            "Epoch 14/100\n",
            "100/100 [==============================] - 21s 208ms/step - loss: 0.1629 - acc: 0.9405 - val_loss: 0.0270 - val_acc: 0.9450\n",
            "Epoch 15/100\n",
            "100/100 [==============================] - 21s 208ms/step - loss: 0.1609 - acc: 0.9440 - val_loss: 0.1279 - val_acc: 0.9490\n",
            "Epoch 16/100\n",
            "100/100 [==============================] - 21s 209ms/step - loss: 0.1396 - acc: 0.9480 - val_loss: 0.0780 - val_acc: 0.9470\n",
            "Epoch 17/100\n",
            "100/100 [==============================] - 21s 211ms/step - loss: 0.1376 - acc: 0.9460 - val_loss: 0.5209 - val_acc: 0.9480\n",
            "Epoch 18/100\n",
            "100/100 [==============================] - 21s 208ms/step - loss: 0.1333 - acc: 0.9490 - val_loss: 1.1121 - val_acc: 0.9390\n",
            "Epoch 19/100\n",
            "100/100 [==============================] - 21s 209ms/step - loss: 0.1235 - acc: 0.9590 - val_loss: 0.0039 - val_acc: 0.9420\n",
            "Epoch 20/100\n",
            "100/100 [==============================] - 21s 209ms/step - loss: 0.1265 - acc: 0.9530 - val_loss: 0.1026 - val_acc: 0.9420\n",
            "Epoch 21/100\n",
            "100/100 [==============================] - 21s 212ms/step - loss: 0.1438 - acc: 0.9485 - val_loss: 0.0020 - val_acc: 0.9440\n",
            "Epoch 22/100\n",
            "100/100 [==============================] - 21s 209ms/step - loss: 0.1306 - acc: 0.9470 - val_loss: 0.0061 - val_acc: 0.9470\n",
            "Epoch 23/100\n",
            "100/100 [==============================] - 21s 208ms/step - loss: 0.1227 - acc: 0.9500 - val_loss: 0.5481 - val_acc: 0.9460\n",
            "Epoch 24/100\n",
            "100/100 [==============================] - 21s 207ms/step - loss: 0.1435 - acc: 0.9485 - val_loss: 0.5391 - val_acc: 0.9500\n",
            "Epoch 25/100\n",
            "100/100 [==============================] - 21s 210ms/step - loss: 0.1316 - acc: 0.9555 - val_loss: 4.2321e-04 - val_acc: 0.9470\n",
            "Epoch 26/100\n",
            "100/100 [==============================] - 21s 207ms/step - loss: 0.1008 - acc: 0.9600 - val_loss: 0.3448 - val_acc: 0.9460\n",
            "Epoch 27/100\n",
            "100/100 [==============================] - 21s 208ms/step - loss: 0.1041 - acc: 0.9575 - val_loss: 0.0332 - val_acc: 0.9500\n",
            "Epoch 28/100\n",
            "100/100 [==============================] - 21s 208ms/step - loss: 0.1142 - acc: 0.9610 - val_loss: 0.2719 - val_acc: 0.9460\n",
            "Epoch 29/100\n",
            "100/100 [==============================] - 21s 210ms/step - loss: 0.1114 - acc: 0.9630 - val_loss: 0.5419 - val_acc: 0.9470\n",
            "Epoch 30/100\n",
            "100/100 [==============================] - 21s 209ms/step - loss: 0.1023 - acc: 0.9610 - val_loss: 0.5674 - val_acc: 0.9440\n",
            "Epoch 31/100\n",
            "100/100 [==============================] - 21s 211ms/step - loss: 0.0941 - acc: 0.9680 - val_loss: 0.0013 - val_acc: 0.9450\n",
            "Epoch 32/100\n",
            "100/100 [==============================] - 21s 211ms/step - loss: 0.0980 - acc: 0.9625 - val_loss: 0.6325 - val_acc: 0.9370\n",
            "Epoch 33/100\n",
            "100/100 [==============================] - 21s 211ms/step - loss: 0.1091 - acc: 0.9650 - val_loss: 0.0752 - val_acc: 0.9410\n",
            "Epoch 34/100\n",
            "100/100 [==============================] - 21s 207ms/step - loss: 0.1003 - acc: 0.9620 - val_loss: 0.3200 - val_acc: 0.9460\n",
            "Epoch 35/100\n",
            "100/100 [==============================] - 21s 208ms/step - loss: 0.1044 - acc: 0.9640 - val_loss: 0.1685 - val_acc: 0.9450\n",
            "Epoch 36/100\n",
            "100/100 [==============================] - 21s 209ms/step - loss: 0.0894 - acc: 0.9645 - val_loss: 0.0151 - val_acc: 0.9390\n",
            "Epoch 37/100\n",
            "100/100 [==============================] - 21s 211ms/step - loss: 0.0860 - acc: 0.9710 - val_loss: 5.1573e-04 - val_acc: 0.9480\n",
            "Epoch 38/100\n",
            "100/100 [==============================] - 21s 209ms/step - loss: 0.1070 - acc: 0.9635 - val_loss: 0.0082 - val_acc: 0.9400\n",
            "Epoch 39/100\n",
            "100/100 [==============================] - 21s 208ms/step - loss: 0.0961 - acc: 0.9645 - val_loss: 0.4174 - val_acc: 0.9530\n",
            "Epoch 40/100\n",
            "100/100 [==============================] - 21s 212ms/step - loss: 0.0770 - acc: 0.9735 - val_loss: 0.2132 - val_acc: 0.9470\n",
            "Epoch 41/100\n",
            "100/100 [==============================] - 21s 211ms/step - loss: 0.0686 - acc: 0.9725 - val_loss: 0.0018 - val_acc: 0.9490\n",
            "Epoch 42/100\n",
            "100/100 [==============================] - 21s 210ms/step - loss: 0.0765 - acc: 0.9735 - val_loss: 0.1593 - val_acc: 0.9480\n",
            "Epoch 43/100\n",
            "100/100 [==============================] - 21s 211ms/step - loss: 0.0653 - acc: 0.9750 - val_loss: 0.2560 - val_acc: 0.9510\n",
            "Epoch 44/100\n",
            "100/100 [==============================] - 21s 211ms/step - loss: 0.0834 - acc: 0.9705 - val_loss: 0.8441 - val_acc: 0.9410\n",
            "Epoch 45/100\n",
            "100/100 [==============================] - 21s 210ms/step - loss: 0.0745 - acc: 0.9710 - val_loss: 0.0345 - val_acc: 0.9510\n",
            "Epoch 46/100\n",
            "100/100 [==============================] - 21s 211ms/step - loss: 0.1018 - acc: 0.9710 - val_loss: 7.6981e-04 - val_acc: 0.9500\n",
            "Epoch 47/100\n",
            "100/100 [==============================] - 21s 210ms/step - loss: 0.0753 - acc: 0.9695 - val_loss: 0.8269 - val_acc: 0.9500\n",
            "Epoch 48/100\n",
            "100/100 [==============================] - 21s 209ms/step - loss: 0.0775 - acc: 0.9710 - val_loss: 0.0983 - val_acc: 0.9480\n",
            "Epoch 49/100\n",
            "100/100 [==============================] - 21s 208ms/step - loss: 0.0933 - acc: 0.9670 - val_loss: 0.6712 - val_acc: 0.9480\n",
            "Epoch 50/100\n",
            "100/100 [==============================] - 21s 207ms/step - loss: 0.0776 - acc: 0.9760 - val_loss: 0.2317 - val_acc: 0.9530\n",
            "Epoch 51/100\n",
            "100/100 [==============================] - 21s 207ms/step - loss: 0.0690 - acc: 0.9740 - val_loss: 0.7938 - val_acc: 0.9540\n",
            "Epoch 52/100\n",
            "100/100 [==============================] - 21s 207ms/step - loss: 0.0800 - acc: 0.9725 - val_loss: 0.0448 - val_acc: 0.9540\n",
            "Epoch 53/100\n",
            "100/100 [==============================] - 21s 207ms/step - loss: 0.0939 - acc: 0.9700 - val_loss: 1.6593e-04 - val_acc: 0.9550\n",
            "Epoch 54/100\n",
            "100/100 [==============================] - 21s 208ms/step - loss: 0.0724 - acc: 0.9750 - val_loss: 1.1144 - val_acc: 0.9510\n",
            "Epoch 55/100\n",
            "100/100 [==============================] - 21s 208ms/step - loss: 0.0872 - acc: 0.9730 - val_loss: 0.1267 - val_acc: 0.9500\n",
            "Epoch 56/100\n",
            "100/100 [==============================] - 21s 208ms/step - loss: 0.0562 - acc: 0.9805 - val_loss: 0.2276 - val_acc: 0.9520\n",
            "Epoch 57/100\n",
            "100/100 [==============================] - 21s 206ms/step - loss: 0.0806 - acc: 0.9715 - val_loss: 0.2557 - val_acc: 0.9530\n",
            "Epoch 58/100\n",
            "100/100 [==============================] - 21s 205ms/step - loss: 0.0797 - acc: 0.9750 - val_loss: 0.5043 - val_acc: 0.9500\n",
            "Epoch 59/100\n",
            "100/100 [==============================] - 21s 206ms/step - loss: 0.0574 - acc: 0.9810 - val_loss: 0.2608 - val_acc: 0.9520\n",
            "Epoch 60/100\n",
            "100/100 [==============================] - 21s 206ms/step - loss: 0.0691 - acc: 0.9755 - val_loss: 0.5210 - val_acc: 0.9540\n",
            "Epoch 61/100\n",
            "100/100 [==============================] - 21s 208ms/step - loss: 0.0727 - acc: 0.9745 - val_loss: 0.1890 - val_acc: 0.9500\n",
            "Epoch 62/100\n",
            "100/100 [==============================] - 21s 205ms/step - loss: 0.0643 - acc: 0.9785 - val_loss: 0.0036 - val_acc: 0.9480\n",
            "Epoch 63/100\n",
            "100/100 [==============================] - 21s 205ms/step - loss: 0.0678 - acc: 0.9755 - val_loss: 1.0437 - val_acc: 0.9520\n",
            "Epoch 64/100\n",
            "100/100 [==============================] - 21s 206ms/step - loss: 0.0723 - acc: 0.9765 - val_loss: 0.0121 - val_acc: 0.9500\n",
            "Epoch 65/100\n",
            "100/100 [==============================] - 21s 207ms/step - loss: 0.0514 - acc: 0.9805 - val_loss: 0.0142 - val_acc: 0.9520\n",
            "Epoch 66/100\n",
            "100/100 [==============================] - 21s 205ms/step - loss: 0.0587 - acc: 0.9820 - val_loss: 3.8748e-07 - val_acc: 0.9490\n",
            "Epoch 67/100\n",
            "100/100 [==============================] - 21s 207ms/step - loss: 0.0681 - acc: 0.9785 - val_loss: 0.0069 - val_acc: 0.9460\n",
            "Epoch 68/100\n",
            "100/100 [==============================] - 21s 206ms/step - loss: 0.0543 - acc: 0.9805 - val_loss: 0.0264 - val_acc: 0.9520\n",
            "Epoch 69/100\n",
            "100/100 [==============================] - 21s 207ms/step - loss: 0.0613 - acc: 0.9785 - val_loss: 0.7593 - val_acc: 0.9480\n",
            "Epoch 70/100\n",
            "100/100 [==============================] - 21s 206ms/step - loss: 0.0646 - acc: 0.9765 - val_loss: 0.3668 - val_acc: 0.9470\n",
            "Epoch 71/100\n",
            "100/100 [==============================] - 21s 207ms/step - loss: 0.0581 - acc: 0.9800 - val_loss: 0.3344 - val_acc: 0.9430\n",
            "Epoch 72/100\n",
            "100/100 [==============================] - 21s 207ms/step - loss: 0.0539 - acc: 0.9830 - val_loss: 0.1908 - val_acc: 0.9440\n",
            "Epoch 73/100\n",
            "100/100 [==============================] - 21s 205ms/step - loss: 0.0617 - acc: 0.9760 - val_loss: 0.1601 - val_acc: 0.9430\n",
            "Epoch 74/100\n",
            "100/100 [==============================] - 21s 207ms/step - loss: 0.0516 - acc: 0.9815 - val_loss: 0.2485 - val_acc: 0.9440\n",
            "Epoch 75/100\n",
            "100/100 [==============================] - 21s 208ms/step - loss: 0.0458 - acc: 0.9850 - val_loss: 0.0386 - val_acc: 0.9470\n",
            "Epoch 76/100\n",
            "100/100 [==============================] - 21s 208ms/step - loss: 0.0617 - acc: 0.9800 - val_loss: 0.5254 - val_acc: 0.9440\n",
            "Epoch 77/100\n",
            "100/100 [==============================] - 21s 205ms/step - loss: 0.0508 - acc: 0.9820 - val_loss: 0.0623 - val_acc: 0.9420\n",
            "Epoch 78/100\n",
            "100/100 [==============================] - 21s 206ms/step - loss: 0.0545 - acc: 0.9820 - val_loss: 0.0229 - val_acc: 0.9430\n",
            "Epoch 79/100\n",
            "100/100 [==============================] - 21s 208ms/step - loss: 0.0627 - acc: 0.9795 - val_loss: 0.0215 - val_acc: 0.9460\n",
            "Epoch 80/100\n",
            "100/100 [==============================] - 21s 211ms/step - loss: 0.0620 - acc: 0.9775 - val_loss: 0.1469 - val_acc: 0.9420\n",
            "Epoch 81/100\n",
            "100/100 [==============================] - 21s 211ms/step - loss: 0.0512 - acc: 0.9795 - val_loss: 0.0678 - val_acc: 0.9500\n",
            "Epoch 82/100\n",
            "100/100 [==============================] - 21s 209ms/step - loss: 0.0625 - acc: 0.9795 - val_loss: 0.1904 - val_acc: 0.9480\n",
            "Epoch 83/100\n",
            "100/100 [==============================] - 21s 206ms/step - loss: 0.0561 - acc: 0.9780 - val_loss: 1.1406e-05 - val_acc: 0.9470\n",
            "Epoch 84/100\n",
            "100/100 [==============================] - 21s 205ms/step - loss: 0.0541 - acc: 0.9835 - val_loss: 3.9034e-06 - val_acc: 0.9490\n",
            "Epoch 85/100\n",
            "100/100 [==============================] - 21s 205ms/step - loss: 0.0378 - acc: 0.9870 - val_loss: 0.0019 - val_acc: 0.9450\n",
            "Epoch 86/100\n",
            "100/100 [==============================] - 20s 205ms/step - loss: 0.0498 - acc: 0.9825 - val_loss: 0.1717 - val_acc: 0.9490\n",
            "Epoch 87/100\n",
            "100/100 [==============================] - 21s 207ms/step - loss: 0.0670 - acc: 0.9780 - val_loss: 0.0025 - val_acc: 0.9520\n",
            "Epoch 88/100\n",
            "100/100 [==============================] - 21s 206ms/step - loss: 0.0380 - acc: 0.9855 - val_loss: 0.6984 - val_acc: 0.9530\n",
            "Epoch 89/100\n",
            "100/100 [==============================] - 21s 205ms/step - loss: 0.0460 - acc: 0.9865 - val_loss: 0.0214 - val_acc: 0.9480\n",
            "Epoch 90/100\n",
            "100/100 [==============================] - 20s 205ms/step - loss: 0.0625 - acc: 0.9820 - val_loss: 0.0040 - val_acc: 0.9450\n",
            "Epoch 91/100\n",
            "100/100 [==============================] - 21s 209ms/step - loss: 0.0444 - acc: 0.9845 - val_loss: 0.2433 - val_acc: 0.9500\n",
            "Epoch 92/100\n",
            "100/100 [==============================] - 21s 205ms/step - loss: 0.0424 - acc: 0.9835 - val_loss: 0.0144 - val_acc: 0.9510\n",
            "Epoch 93/100\n",
            "100/100 [==============================] - 21s 205ms/step - loss: 0.0519 - acc: 0.9820 - val_loss: 0.0478 - val_acc: 0.9530\n",
            "Epoch 94/100\n",
            "100/100 [==============================] - 21s 206ms/step - loss: 0.0511 - acc: 0.9850 - val_loss: 0.3912 - val_acc: 0.9510\n",
            "Epoch 95/100\n",
            "100/100 [==============================] - 21s 206ms/step - loss: 0.0506 - acc: 0.9865 - val_loss: 4.6080e-05 - val_acc: 0.9460\n",
            "Epoch 96/100\n",
            "100/100 [==============================] - 21s 205ms/step - loss: 0.0666 - acc: 0.9810 - val_loss: 0.6943 - val_acc: 0.9540\n",
            "Epoch 97/100\n",
            "100/100 [==============================] - 21s 206ms/step - loss: 0.0363 - acc: 0.9850 - val_loss: 0.3435 - val_acc: 0.9540\n",
            "Epoch 98/100\n",
            "100/100 [==============================] - 21s 205ms/step - loss: 0.0462 - acc: 0.9850 - val_loss: 0.0056 - val_acc: 0.9520\n",
            "Epoch 99/100\n",
            "100/100 [==============================] - 21s 208ms/step - loss: 0.0614 - acc: 0.9815 - val_loss: 4.2349e-07 - val_acc: 0.9530\n",
            "Epoch 100/100\n",
            "100/100 [==============================] - 21s 205ms/step - loss: 0.0315 - acc: 0.9875 - val_loss: 0.0037 - val_acc: 0.9510\n"
          ],
          "name": "stdout"
        }
      ]
    },
    {
      "cell_type": "markdown",
      "metadata": {
        "id": "eVBQgh5M-Rtz",
        "colab_type": "text"
      },
      "source": [
        "## Display learning curves during fine-tuning"
      ]
    },
    {
      "cell_type": "code",
      "metadata": {
        "id": "mbkIw7Ie-NP4",
        "colab_type": "code",
        "outputId": "d8d4a583-a9db-4d83-b579-9fefcb99edb3",
        "colab": {
          "base_uri": "https://localhost:8080/",
          "height": 545
        }
      },
      "source": [
        "%matplotlib inline\n",
        "\n",
        "import matplotlib.pyplot as plt\n",
        "\n",
        "acc = history.history['acc']\n",
        "val_acc = history.history['val_acc']\n",
        "\n",
        "loss = history.history['loss']\n",
        "val_loss = history.history['val_loss']\n",
        "\n",
        "epochs = range(1, len(acc) + 1)\n",
        "\n",
        "# training and validation accuracy\n",
        "\n",
        "plt.plot(epochs, acc, 'bo', label='training acc')\n",
        "plt.plot(epochs, val_acc, 'b', label='validation acc')\n",
        "plt.title('training and validation accuracy')\n",
        "plt.legend()\n",
        "\n",
        "plt.figure()\n",
        "\n",
        "# training and validation loss\n",
        "\n",
        "plt.plot(epochs, loss, 'bo', label='training loss')\n",
        "plt.plot(epochs, val_loss, 'b', label='validation loss')\n",
        "plt.title('training and validation loss')\n",
        "plt.legend()\n",
        "\n",
        "plt.show()"
      ],
      "execution_count": 0,
      "outputs": [
        {
          "output_type": "display_data",
          "data": {
            "image/png": "[encoded data removed]",
            "text/plain": [
              "<Figure size 432x288 with 1 Axes>"
            ]
          },
          "metadata": {
            "tags": [],
            "needs_background": "light"
          }
        },
        {
          "output_type": "display_data",
          "data": {
            "image/png": "[encoded data removed]",
            "text/plain": [
              "<Figure size 432x288 with 1 Axes>"
            ]
          },
          "metadata": {
            "tags": [],
            "needs_background": "light"
          }
        }
      ]
    },
    {
      "cell_type": "markdown",
      "metadata": {
        "id": "obQi6N4ZShdi",
        "colab_type": "text"
      },
      "source": [
        "This looks like overfitting. I should try  adding dropout for the densely connected layer."
      ]
    },
    {
      "cell_type": "markdown",
      "metadata": {
        "id": "he3Nw6TOJwjx",
        "colab_type": "text"
      },
      "source": [
        "## Print out validation loss and accuracy"
      ]
    },
    {
      "cell_type": "code",
      "metadata": {
        "id": "SVQtrk7uJdhl",
        "colab_type": "code",
        "colab": {}
      },
      "source": [
        "val_loss, val_acc = model.evaluate_generator(validation_generator, steps=50)"
      ],
      "execution_count": 0,
      "outputs": []
    },
    {
      "cell_type": "code",
      "metadata": {
        "id": "HpdddLi1SUMe",
        "colab_type": "code",
        "outputId": "4cf2839b-fe1e-4dce-e1e2-c375040c7ead",
        "colab": {
          "base_uri": "https://localhost:8080/",
          "height": 50
        }
      },
      "source": [
        "print(\"Validation loss:\", val_loss)\n",
        "print(\"Validation accuracy:\", val_acc)"
      ],
      "execution_count": 0,
      "outputs": [
        {
          "output_type": "stream",
          "text": [
            "Validation loss: 0.00366835854947567\n",
            "Validation accuracy: 0.9509999752044678\n"
          ],
          "name": "stdout"
        }
      ]
    },
    {
      "cell_type": "markdown",
      "metadata": {
        "id": "7Ww756WToby8",
        "colab_type": "text"
      },
      "source": [
        "## Save the model"
      ]
    },
    {
      "cell_type": "code",
      "metadata": {
        "id": "0lTUpUdwobKW",
        "colab_type": "code",
        "colab": {}
      },
      "source": [
        "model_fname = 'cats_and_dogs_small_4.h5' \n",
        "model.save(model_fname)"
      ],
      "execution_count": 0,
      "outputs": []
    },
    {
      "cell_type": "code",
      "metadata": {
        "id": "YhEoI8ZTok-X",
        "colab_type": "code",
        "outputId": "e6f33894-a3f4-4778-9168-3675b2bae750",
        "colab": {
          "base_uri": "https://localhost:8080/",
          "height": 457
        }
      },
      "source": [
        "from google.colab import files\n",
        "\n",
        "with open(model_fname, 'r') as f:\n",
        "  files.download(model_fname)"
      ],
      "execution_count": 0,
      "outputs": [
        {
          "output_type": "stream",
          "text": [
            "----------------------------------------\n",
            "Exception happened during processing of request from ('::ffff:127.0.0.1', 46494, 0, 0)\n",
            "Traceback (most recent call last):\n",
            "  File \"/usr/lib/python3.6/socketserver.py\", line 320, in _handle_request_noblock\n",
            "    self.process_request(request, client_address)\n",
            "  File \"/usr/lib/python3.6/socketserver.py\", line 351, in process_request\n",
            "    self.finish_request(request, client_address)\n",
            "  File \"/usr/lib/python3.6/socketserver.py\", line 364, in finish_request\n",
            "    self.RequestHandlerClass(request, client_address, self)\n",
            "  File \"/usr/lib/python3.6/socketserver.py\", line 724, in __init__\n",
            "    self.handle()\n",
            "  File \"/usr/lib/python3.6/http/server.py\", line 418, in handle\n",
            "    self.handle_one_request()\n",
            "  File \"/usr/lib/python3.6/http/server.py\", line 406, in handle_one_request\n",
            "    method()\n",
            "  File \"/usr/lib/python3.6/http/server.py\", line 639, in do_GET\n",
            "    self.copyfile(f, self.wfile)\n",
            "  File \"/usr/lib/python3.6/http/server.py\", line 800, in copyfile\n",
            "    shutil.copyfileobj(source, outputfile)\n",
            "  File \"/usr/lib/python3.6/shutil.py\", line 82, in copyfileobj\n",
            "    fdst.write(buf)\n",
            "  File \"/usr/lib/python3.6/socketserver.py\", line 803, in write\n",
            "    self._sock.sendall(b)\n",
            "ConnectionResetError: [Errno 104] Connection reset by peer\n",
            "----------------------------------------\n"
          ],
          "name": "stderr"
        }
      ]
    },
    {
      "cell_type": "code",
      "metadata": {
        "id": "VNEL4CCcS0Oj",
        "colab_type": "code",
        "colab": {}
      },
      "source": [
        ""
      ],
      "execution_count": 0,
      "outputs": []
    }
  ]
}