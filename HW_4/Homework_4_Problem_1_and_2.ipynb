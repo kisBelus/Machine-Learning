{
  "nbformat": 4,
  "nbformat_minor": 0,
  "metadata": {
    "colab": {
      "name": "Homework 4 Problem 1 and 2",
      "provenance": [],
      "collapsed_sections": [],
      "authorship_tag": "ABX9TyP39ZW60+QcV0d7hfQ3vbLz",
      "include_colab_link": true
    },
    "kernelspec": {
      "name": "python3",
      "display_name": "Python 3"
    }
  },
  "cells": [
    {
      "cell_type": "markdown",
      "metadata": {
        "id": "view-in-github",
        "colab_type": "text"
      },
      "source": [
        "<a href=\"https://colab.research.google.com/github/kisBelus/Machine-Learning/blob/master/HW_4/Homework_4_Problem_1_and_2.ipynb\" target=\"_parent\"><img src=\"https://colab.research.google.com/assets/colab-badge.svg\" alt=\"Open In Colab\"/></a>"
      ]
    },
    {
      "cell_type": "code",
      "metadata": {
        "id": "_lgDk_RLOmsr",
        "colab_type": "code",
        "colab": {}
      },
      "source": [
        "import numpy as np"
      ],
      "execution_count": 0,
      "outputs": []
    },
    {
      "cell_type": "markdown",
      "metadata": {
        "id": "gOKugSzPxbSW",
        "colab_type": "text"
      },
      "source": [
        "#Convolution Function\n"
      ]
    },
    {
      "cell_type": "code",
      "metadata": {
        "id": "Q8vTEMprNTDn",
        "colab_type": "code",
        "colab": {}
      },
      "source": [
        "def conv2d (input_mat, kernel_mat):\n",
        "  #Dimensions of inputs\n",
        "  input_width = input_mat.shape[1]\n",
        "  input_height = input_mat.shape[0]\n",
        "  kernel_width = kernel_mat.shape[1]\n",
        "  kernel_height = kernel_mat.shape[0]\n",
        "\n",
        "  if input_width < kernel_width or input_height < kernel_height:\n",
        "    raise Exception('Kernel should not be larger than the input matrix')\n",
        "  if input_width != input_height or kernel_width != kernel_height:\n",
        "    raise Exception('Matrix is not square')\n",
        "\n",
        "  #Number of lateral and vertical steps the convolution will take\n",
        "  steps = input_width-kernel_width+1\n",
        "\n",
        "  output_mat = np.empty((steps,steps), dtype=int)\n",
        "\n",
        "  #Convolution Loop\n",
        "  y_pos = 0\n",
        "  while y_pos< steps:\n",
        "    x_pos = 0\n",
        "    while x_pos< steps:\n",
        "      y_conv_pos = 0\n",
        "      output_val = 0\n",
        "      while y_conv_pos<kernel_height:\n",
        "        x_conv_pos = 0\n",
        "        while x_conv_pos<kernel_width:\n",
        "          input_cel = input_mat[y_pos + y_conv_pos].item(x_pos + x_conv_pos)\n",
        "          kernel_cel = kernel_mat[y_conv_pos].item(x_conv_pos)\n",
        "          output_val +=  input_cel * kernel_cel \n",
        "          x_conv_pos+=1\n",
        "        y_conv_pos+=1\n",
        "      output_mat[y_pos][x_pos] = output_val\n",
        "      \n",
        "      x_pos+=1  \n",
        "    y_pos+=1\n",
        "    \n",
        "  return output_mat\n"
      ],
      "execution_count": 0,
      "outputs": []
    },
    {
      "cell_type": "markdown",
      "metadata": {
        "id": "KvosgQmFzjwZ",
        "colab_type": "text"
      },
      "source": [
        "#Convolution Demo"
      ]
    },
    {
      "cell_type": "code",
      "metadata": {
        "id": "e6SYjmFiPwcY",
        "colab_type": "code",
        "colab": {
          "base_uri": "https://localhost:8080/",
          "height": 319
        },
        "outputId": "0ec1f489-3cba-4c6c-d3fe-5e6d1d07bc21"
      },
      "source": [
        "input_matrix = np.matrix('1 2 3 4 5 6;6 5 4 3 2 1;4 5 6 7 8 9;9 8 7 6 5 4;0 1 2 3 4 5; 5 4 3 2 1 0')\n",
        "kernel_matrix = np.matrix('1 0 1; 0 1 0; 1 0 1')\n",
        "k_mat = np.matrix(' 0 0 0; 0 1 0; 0 0 0')\n",
        "print(\"input:\\n\", input_matrix)\n",
        "print(\"Kernel:\\n\",kernel_matrix)\n",
        "\n",
        "output = conv2d(input_matrix, k_mat)\n",
        "print(\"\\n\\nOutput:\\n\",output)"
      ],
      "execution_count": 10,
      "outputs": [
        {
          "output_type": "stream",
          "text": [
            "input:\n",
            " [[1 2 3 4 5 6]\n",
            " [6 5 4 3 2 1]\n",
            " [4 5 6 7 8 9]\n",
            " [9 8 7 6 5 4]\n",
            " [0 1 2 3 4 5]\n",
            " [5 4 3 2 1 0]]\n",
            "Kernel:\n",
            " [[1 0 1]\n",
            " [0 1 0]\n",
            " [1 0 1]]\n",
            "\n",
            "\n",
            "Output:\n",
            " [[5 4 3 2]\n",
            " [5 6 7 8]\n",
            " [8 7 6 5]\n",
            " [1 2 3 4]]\n"
          ],
          "name": "stdout"
        }
      ]
    },
    {
      "cell_type": "markdown",
      "metadata": {
        "id": "835dSfmwxspF",
        "colab_type": "text"
      },
      "source": [
        "#Max Pooling Function\n"
      ]
    },
    {
      "cell_type": "code",
      "metadata": {
        "id": "38_PBWxEQBU-",
        "colab_type": "code",
        "colab": {}
      },
      "source": [
        "def maxpooling2d (input_mat, s):\n",
        "  #Input dimensions\n",
        "  input_width = input_mat.shape[1]\n",
        "  input_height = input_mat.shape[0]\n",
        "\n",
        "  \n",
        "  if input_width < s or input_height < s:\n",
        "    raise Exception('s should not be larger than the input matrix')\n",
        "  if input_width != input_height:\n",
        "    raise Exception('Matrix is not square')\n",
        "\n",
        "  output_mat = np.empty((int(input_width/s),int(input_height/s)), dtype=int)\n",
        "  \n",
        "  #Maxpool loop\n",
        "  y_pos = 0\n",
        "  out_x = 0\n",
        "  out_y = 0\n",
        "  while y_pos<=input_height-s:\n",
        "    x_pos = 0\n",
        "    out_x = 0\n",
        "    while x_pos<=input_width-s:\n",
        "      max_val = 0\n",
        "      y_pool = 0\n",
        "      while y_pool < s:\n",
        "        x_pool = 0\n",
        "        while x_pool < s:\n",
        "          if input_mat[y_pos+y_pool].item(x_pos+x_pool) > max_val:\n",
        "            max_val = input_mat[y_pos+y_pool].item(x_pos+x_pool)\n",
        "          x_pool+=1\n",
        "        y_pool+=1\n",
        "      output_mat[out_y][out_x] = max_val  \n",
        "\n",
        "      out_x+= 1\n",
        "      x_pos+= s\n",
        "    out_y+= 1\n",
        "    y_pos+= s\n",
        "  return output_mat"
      ],
      "execution_count": 0,
      "outputs": []
    },
    {
      "cell_type": "markdown",
      "metadata": {
        "id": "Ka4YqAD5z58N",
        "colab_type": "text"
      },
      "source": [
        "#Maxpool Demo"
      ]
    },
    {
      "cell_type": "code",
      "metadata": {
        "id": "SwMP8KAHWfzq",
        "colab_type": "code",
        "outputId": "17b4ebe4-4358-4919-f950-08b25afb5929",
        "colab": {
          "base_uri": "https://localhost:8080/",
          "height": 67
        }
      },
      "source": [
        "maxpool = maxpooling2d(input_matrix, 2)\n",
        "print(maxpool)"
      ],
      "execution_count": 14,
      "outputs": [
        {
          "output_type": "stream",
          "text": [
            "[[6 4 6]\n",
            " [9 7 9]\n",
            " [5 3 5]]\n"
          ],
          "name": "stdout"
        }
      ]
    },
    {
      "cell_type": "code",
      "metadata": {
        "id": "DSkx7GMrl8Ny",
        "colab_type": "code",
        "colab": {}
      },
      "source": [
        ""
      ],
      "execution_count": 0,
      "outputs": []
    }
  ]
}