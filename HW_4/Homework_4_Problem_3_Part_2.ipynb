{
  "nbformat": 4,
  "nbformat_minor": 0,
  "metadata": {
    "colab": {
      "name": "Homework 4 Problem 3 Part 2",
      "provenance": [],
      "collapsed_sections": [],
      "include_colab_link": true
    },
    "kernelspec": {
      "name": "python3",
      "display_name": "Python 3"
    },
    "accelerator": "GPU"
  },
  "cells": [
    {
      "cell_type": "markdown",
      "metadata": {
        "id": "view-in-github",
        "colab_type": "text"
      },
      "source": [
        "<a href=\"https://colab.research.google.com/github/kisBelus/Machine-Learning/blob/master/HW_4/Homework_4_Problem_3_Part_2.ipynb\" target=\"_parent\"><img src=\"https://colab.research.google.com/assets/colab-badge.svg\" alt=\"Open In Colab\"/></a>"
      ]
    },
    {
      "cell_type": "markdown",
      "metadata": {
        "id": "KSrgMJ5vKFzQ",
        "colab_type": "text"
      },
      "source": [
        "# Fine-tuning VGG16 "
      ]
    },
    {
      "cell_type": "markdown",
      "metadata": {
        "id": "TIW7bZaAK-Hf",
        "colab_type": "text"
      },
      "source": [
        "This is based on section 5.3 *Using a pretrained convnet* of the book *Deep learning with Python* by Francois Chollet. I have made several changes to the code. I use the data that is already provided by Google. I don't download the data from Kaggle as in the deep learning book."
      ]
    },
    {
      "cell_type": "markdown",
      "metadata": {
        "id": "nsBq__dVo2pj",
        "colab_type": "text"
      },
      "source": [
        "## Feature extraction"
      ]
    },
    {
      "cell_type": "markdown",
      "metadata": {
        "id": "0g6ETAM9o54M",
        "colab_type": "text"
      },
      "source": [
        "Feature extraction consists of using the representations learned by a previous network to extract interesting features from new samples. These features are then run through a new classifier, which is trained from scratch.\n",
        "\n",
        "We will use here the convolutional base of the VGG16 model to extract the features. We will feed these features to a densely connected classifier with dropout. We will fine-tune some layers."
      ]
    },
    {
      "cell_type": "markdown",
      "metadata": {
        "id": "BqIG8QHMLNOn",
        "colab_type": "text"
      },
      "source": [
        "## Download the data"
      ]
    },
    {
      "cell_type": "markdown",
      "metadata": {
        "id": "t3I1jd7cKV6_",
        "colab_type": "text"
      },
      "source": [
        "Download the example data, a zip. of 2,000 JPG pictures of cats and dogs and extract it locally in ```/tmp```.\n",
        "\n"
      ]
    },
    {
      "cell_type": "code",
      "metadata": {
        "id": "JWjprHEXJ5Qi",
        "colab_type": "code",
        "outputId": "b5e8da21-a375-4ddd-9173-a1952b051e0c",
        "colab": {
          "base_uri": "https://localhost:8080/",
          "height": 202
        }
      },
      "source": [
        "!wget --no-check-certificate \\\n",
        "    https://storage.googleapis.com/mledu-datasets/cats_and_dogs_filtered.zip \\\n",
        "    -O /tmp/cats_and_dogs_filtered.zip"
      ],
      "execution_count": 2,
      "outputs": [
        {
          "output_type": "stream",
          "text": [
            "--2020-04-19 17:48:26--  https://storage.googleapis.com/mledu-datasets/cats_and_dogs_filtered.zip\n",
            "Resolving storage.googleapis.com (storage.googleapis.com)... 172.217.14.80, 2607:f8b0:4007:80d::2010\n",
            "Connecting to storage.googleapis.com (storage.googleapis.com)|172.217.14.80|:443... connected.\n",
            "HTTP request sent, awaiting response... 200 OK\n",
            "Length: 68606236 (65M) [application/zip]\n",
            "Saving to: ‘/tmp/cats_and_dogs_filtered.zip’\n",
            "\n",
            "\r          /tmp/cats   0%[                    ]       0  --.-KB/s               \r         /tmp/cats_  59%[==========>         ]  38.73M   194MB/s               \r/tmp/cats_and_dogs_ 100%[===================>]  65.43M   249MB/s    in 0.3s    \n",
            "\n",
            "2020-04-19 17:48:26 (249 MB/s) - ‘/tmp/cats_and_dogs_filtered.zip’ saved [68606236/68606236]\n",
            "\n"
          ],
          "name": "stdout"
        }
      ]
    },
    {
      "cell_type": "code",
      "metadata": {
        "id": "WvoHtdA-K6Rw",
        "colab_type": "code",
        "colab": {}
      },
      "source": [
        "import os\n",
        "import zipfile\n",
        "\n",
        "local_zip = '/tmp/cats_and_dogs_filtered.zip'\n",
        "zip_ref = zipfile.ZipFile(local_zip, 'r')\n",
        "zip_ref.extractall('/tmp')\n",
        "zip_ref.close()"
      ],
      "execution_count": 0,
      "outputs": []
    },
    {
      "cell_type": "markdown",
      "metadata": {
        "id": "shZiOBnJMyy_",
        "colab_type": "text"
      },
      "source": [
        "Note that the data provided by Google does not have a test set."
      ]
    },
    {
      "cell_type": "code",
      "metadata": {
        "id": "dL8ikM89LlsH",
        "colab_type": "code",
        "colab": {}
      },
      "source": [
        "base_dir = '/tmp/cats_and_dogs_filtered'\n",
        "train_dir = os.path.join(base_dir, 'train')\n",
        "validation_dir = os.path.join(base_dir, 'validation')\n",
        "\n",
        "# Directory with our training cat pictures\n",
        "train_cats_dir = os.path.join(train_dir, 'cats')\n",
        "\n",
        "# Directory with our training dog pictures\n",
        "train_dogs_dir = os.path.join(train_dir, 'dogs')\n",
        "\n",
        "# Directory with our validation cat pictures\n",
        "validation_cats_dir = os.path.join(validation_dir, 'cats')\n",
        "\n",
        "# Directory with our validation dog pictures\n",
        "validation_dogs_dir = os.path.join(validation_dir, 'dogs')"
      ],
      "execution_count": 0,
      "outputs": []
    },
    {
      "cell_type": "markdown",
      "metadata": {
        "id": "inyP8bcdXnn-",
        "colab_type": "text"
      },
      "source": [
        "## Build network with VGG16 convolution base and custom densely connected layers"
      ]
    },
    {
      "cell_type": "markdown",
      "metadata": {
        "id": "kQ48W5T9rHWu",
        "colab_type": "text"
      },
      "source": [
        "### Load the convolutional base"
      ]
    },
    {
      "cell_type": "code",
      "metadata": {
        "id": "Y0FgtANCXm_H",
        "colab_type": "code",
        "outputId": "aca67d41-ea08-4dec-b2c5-f58c750f9693",
        "colab": {
          "base_uri": "https://localhost:8080/",
          "height": 67
        }
      },
      "source": [
        "from keras.applications import ResNet50V2\n",
        "\n",
        "conv_base = ResNet50V2(\n",
        "    weights='imagenet', \n",
        "    include_top=False, \n",
        "    input_shape=(150, 150, 3))"
      ],
      "execution_count": 5,
      "outputs": [
        {
          "output_type": "stream",
          "text": [
            "Using TensorFlow backend.\n"
          ],
          "name": "stderr"
        },
        {
          "output_type": "stream",
          "text": [
            "Downloading data from https://github.com/keras-team/keras-applications/releases/download/resnet/resnet50v2_weights_tf_dim_ordering_tf_kernels_notop.h5\n",
            "94674944/94668760 [==============================] - 2s 0us/step\n"
          ],
          "name": "stdout"
        }
      ]
    },
    {
      "cell_type": "markdown",
      "metadata": {
        "id": "D6OBHOO9q1ou",
        "colab_type": "text"
      },
      "source": [
        "### Freeze the convolutional base"
      ]
    },
    {
      "cell_type": "code",
      "metadata": {
        "id": "UleRo4Dpq6Ld",
        "colab_type": "code",
        "colab": {}
      },
      "source": [
        "conv_base.trainable = False"
      ],
      "execution_count": 0,
      "outputs": []
    },
    {
      "cell_type": "markdown",
      "metadata": {
        "id": "Qfx6PqhPrb7Q",
        "colab_type": "text"
      },
      "source": [
        "### Concatenate the convolutional base and densely connected layers"
      ]
    },
    {
      "cell_type": "code",
      "metadata": {
        "id": "qUpmocDAO3xm",
        "colab_type": "code",
        "colab": {}
      },
      "source": [
        "from keras import layers\n",
        "from keras import models\n",
        "from keras import optimizers\n",
        "\n",
        "model = models.Sequential()\n",
        "model.add(conv_base)\n",
        "model.add(layers.Flatten())\n",
        "model.add(layers.Dense(256, activation='relu'))\n",
        "model.add(layers.Dense(32, activation='relu'))\n",
        "model.add(layers.Dense(4, activation='relu'))\n",
        "#model.add(layers.Dropout(0.1))\n",
        "model.add(layers.Dense(1, activation='sigmoid'))"
      ],
      "execution_count": 0,
      "outputs": []
    },
    {
      "cell_type": "code",
      "metadata": {
        "id": "Fh6gZSeAjF7c",
        "colab_type": "code",
        "outputId": "b8cab6fe-b437-4b21-f93b-8d2e6300a7ab",
        "colab": {
          "base_uri": "https://localhost:8080/",
          "height": 353
        }
      },
      "source": [
        "model.summary()"
      ],
      "execution_count": 8,
      "outputs": [
        {
          "output_type": "stream",
          "text": [
            "Model: \"sequential_1\"\n",
            "_________________________________________________________________\n",
            "Layer (type)                 Output Shape              Param #   \n",
            "=================================================================\n",
            "resnet50v2 (Model)           (None, 5, 5, 2048)        23564800  \n",
            "_________________________________________________________________\n",
            "flatten_1 (Flatten)          (None, 51200)             0         \n",
            "_________________________________________________________________\n",
            "dense_1 (Dense)              (None, 256)               13107456  \n",
            "_________________________________________________________________\n",
            "dense_2 (Dense)              (None, 32)                8224      \n",
            "_________________________________________________________________\n",
            "dense_3 (Dense)              (None, 4)                 132       \n",
            "_________________________________________________________________\n",
            "dense_4 (Dense)              (None, 1)                 5         \n",
            "=================================================================\n",
            "Total params: 36,680,617\n",
            "Trainable params: 13,115,817\n",
            "Non-trainable params: 23,564,800\n",
            "_________________________________________________________________\n"
          ],
          "name": "stdout"
        }
      ]
    },
    {
      "cell_type": "markdown",
      "metadata": {
        "id": "eZjBiddhi5Qj",
        "colab_type": "text"
      },
      "source": [
        "## Train the model end to end with frozen convolutional base"
      ]
    },
    {
      "cell_type": "code",
      "metadata": {
        "id": "tfAQlC2Oi41L",
        "colab_type": "code",
        "outputId": "e2c87ac1-2c98-40a0-a235-fe435d15e57d",
        "colab": {
          "base_uri": "https://localhost:8080/",
          "height": 1000
        }
      },
      "source": [
        "from keras.preprocessing.image import ImageDataGenerator\n",
        "from keras import optimizers\n",
        "\n",
        "# data augmentation\n",
        "\n",
        "train_datagen = ImageDataGenerator(\n",
        "    rescale=1./255, \n",
        "    rotation_range=40,\n",
        "    width_shift_range=0.2,\n",
        "    height_shift_range=0.2,\n",
        "    shear_range=0.2,\n",
        "    zoom_range=0.2,\n",
        "    horizontal_flip=True,\n",
        "    fill_mode='nearest'\n",
        ")\n",
        "\n",
        "train_generator = train_datagen.flow_from_directory(\n",
        "    train_dir,\n",
        "    target_size=(150, 150),\n",
        "    batch_size=20,\n",
        "    class_mode='binary')\n",
        "\n",
        "validation_datagen = ImageDataGenerator(rescale=1./255)\n",
        "\n",
        "validation_generator = validation_datagen.flow_from_directory(\n",
        "    validation_dir,\n",
        "    target_size=(150, 150),\n",
        "    batch_size=20,\n",
        "    class_mode='binary')\n",
        "\n",
        "# compile model\n",
        "\n",
        "model.compile(\n",
        "    loss='binary_crossentropy', \n",
        "    optimizer=optimizers.RMSprop(lr=2e-5), \n",
        "    metrics=['acc'])\n",
        "\n",
        "# train\n",
        "\n",
        "history = model.fit_generator(\n",
        "    train_generator,\n",
        "    steps_per_epoch=100,\n",
        "    epochs=30,\n",
        "    validation_data=validation_generator,\n",
        "    validation_steps=50\n",
        ")"
      ],
      "execution_count": 9,
      "outputs": [
        {
          "output_type": "stream",
          "text": [
            "Found 2000 images belonging to 2 classes.\n",
            "Found 1000 images belonging to 2 classes.\n",
            "Epoch 1/30\n",
            "100/100 [==============================] - 30s 303ms/step - loss: 0.4831 - acc: 0.7330 - val_loss: 0.0135 - val_acc: 0.9590\n",
            "Epoch 2/30\n",
            "100/100 [==============================] - 20s 204ms/step - loss: 0.3728 - acc: 0.8235 - val_loss: 0.1777 - val_acc: 0.9530\n",
            "Epoch 3/30\n",
            "100/100 [==============================] - 20s 203ms/step - loss: 0.3563 - acc: 0.8395 - val_loss: 0.7959 - val_acc: 0.9570\n",
            "Epoch 4/30\n",
            "100/100 [==============================] - 20s 202ms/step - loss: 0.3187 - acc: 0.8615 - val_loss: 0.0543 - val_acc: 0.9580\n",
            "Epoch 5/30\n",
            "100/100 [==============================] - 20s 203ms/step - loss: 0.3088 - acc: 0.8615 - val_loss: 1.2267e-05 - val_acc: 0.9590\n",
            "Epoch 6/30\n",
            "100/100 [==============================] - 20s 202ms/step - loss: 0.2934 - acc: 0.8760 - val_loss: 0.0206 - val_acc: 0.9570\n",
            "Epoch 7/30\n",
            "100/100 [==============================] - 20s 201ms/step - loss: 0.2737 - acc: 0.8835 - val_loss: 0.8220 - val_acc: 0.9620\n",
            "Epoch 8/30\n",
            "100/100 [==============================] - 20s 201ms/step - loss: 0.2912 - acc: 0.8755 - val_loss: 0.0174 - val_acc: 0.9670\n",
            "Epoch 9/30\n",
            "100/100 [==============================] - 20s 200ms/step - loss: 0.2852 - acc: 0.8810 - val_loss: 0.7531 - val_acc: 0.9680\n",
            "Epoch 10/30\n",
            "100/100 [==============================] - 20s 199ms/step - loss: 0.2920 - acc: 0.8770 - val_loss: 0.6128 - val_acc: 0.9580\n",
            "Epoch 11/30\n",
            "100/100 [==============================] - 20s 197ms/step - loss: 0.2689 - acc: 0.8890 - val_loss: 0.0069 - val_acc: 0.9670\n",
            "Epoch 12/30\n",
            "100/100 [==============================] - 20s 197ms/step - loss: 0.2586 - acc: 0.8915 - val_loss: 0.0092 - val_acc: 0.9640\n",
            "Epoch 13/30\n",
            "100/100 [==============================] - 20s 197ms/step - loss: 0.2647 - acc: 0.8885 - val_loss: 0.4040 - val_acc: 0.9650\n",
            "Epoch 14/30\n",
            "100/100 [==============================] - 20s 198ms/step - loss: 0.2642 - acc: 0.8930 - val_loss: 5.4966e-04 - val_acc: 0.9590\n",
            "Epoch 15/30\n",
            "100/100 [==============================] - 20s 196ms/step - loss: 0.2544 - acc: 0.8975 - val_loss: 0.0187 - val_acc: 0.9700\n",
            "Epoch 16/30\n",
            "100/100 [==============================] - 20s 197ms/step - loss: 0.2780 - acc: 0.8880 - val_loss: 2.7936e-06 - val_acc: 0.9660\n",
            "Epoch 17/30\n",
            "100/100 [==============================] - 20s 197ms/step - loss: 0.2478 - acc: 0.8975 - val_loss: 8.1651e-05 - val_acc: 0.9700\n",
            "Epoch 18/30\n",
            "100/100 [==============================] - 20s 204ms/step - loss: 0.2373 - acc: 0.9020 - val_loss: 8.4494e-06 - val_acc: 0.9690\n",
            "Epoch 19/30\n",
            "100/100 [==============================] - 21s 206ms/step - loss: 0.2429 - acc: 0.8980 - val_loss: 0.1877 - val_acc: 0.9670\n",
            "Epoch 20/30\n",
            "100/100 [==============================] - 21s 207ms/step - loss: 0.2608 - acc: 0.8880 - val_loss: 0.6834 - val_acc: 0.9640\n",
            "Epoch 21/30\n",
            "100/100 [==============================] - 21s 208ms/step - loss: 0.2320 - acc: 0.9065 - val_loss: 1.0286e-05 - val_acc: 0.9680\n",
            "Epoch 22/30\n",
            "100/100 [==============================] - 20s 202ms/step - loss: 0.2192 - acc: 0.9085 - val_loss: 0.0093 - val_acc: 0.9740\n",
            "Epoch 23/30\n",
            "100/100 [==============================] - 20s 200ms/step - loss: 0.2330 - acc: 0.9060 - val_loss: 5.6358e-09 - val_acc: 0.9650\n",
            "Epoch 24/30\n",
            "100/100 [==============================] - 20s 203ms/step - loss: 0.2382 - acc: 0.9035 - val_loss: 0.0077 - val_acc: 0.9700\n",
            "Epoch 25/30\n",
            "100/100 [==============================] - 20s 203ms/step - loss: 0.2254 - acc: 0.9060 - val_loss: 0.0790 - val_acc: 0.9660\n",
            "Epoch 26/30\n",
            "100/100 [==============================] - 20s 203ms/step - loss: 0.2100 - acc: 0.9130 - val_loss: 0.4701 - val_acc: 0.9720\n",
            "Epoch 27/30\n",
            "100/100 [==============================] - 20s 198ms/step - loss: 0.2011 - acc: 0.9210 - val_loss: 0.6682 - val_acc: 0.9700\n",
            "Epoch 28/30\n",
            "100/100 [==============================] - 19s 194ms/step - loss: 0.2257 - acc: 0.9045 - val_loss: 4.0411e-07 - val_acc: 0.9610\n",
            "Epoch 29/30\n",
            "100/100 [==============================] - 19s 194ms/step - loss: 0.1859 - acc: 0.9220 - val_loss: 1.4333e-08 - val_acc: 0.9670\n",
            "Epoch 30/30\n",
            "100/100 [==============================] - 20s 196ms/step - loss: 0.2378 - acc: 0.9070 - val_loss: 4.1192e-06 - val_acc: 0.9690\n"
          ],
          "name": "stdout"
        }
      ]
    },
    {
      "cell_type": "markdown",
      "metadata": {
        "id": "xqRc_vHKc92U",
        "colab_type": "text"
      },
      "source": [
        "## Display curves of loss and accuracy during training"
      ]
    },
    {
      "cell_type": "code",
      "metadata": {
        "id": "ybWwdzz9bwuQ",
        "colab_type": "code",
        "outputId": "751df25c-033b-4034-f59e-87ca948acbf3",
        "colab": {
          "base_uri": "https://localhost:8080/",
          "height": 545
        }
      },
      "source": [
        "%matplotlib inline\n",
        "\n",
        "import matplotlib.pyplot as plt\n",
        "\n",
        "acc = history.history['acc']\n",
        "val_acc = history.history['val_acc']\n",
        "\n",
        "loss = history.history['loss']\n",
        "val_loss = history.history['val_loss']\n",
        "\n",
        "epochs = range(1, len(acc) + 1)\n",
        "\n",
        "# training and validation accuracy\n",
        "\n",
        "plt.plot(epochs, acc, 'bo', label='training acc')\n",
        "plt.plot(epochs, val_acc, 'b', label='validation acc')\n",
        "plt.title('training and validation accuracy')\n",
        "plt.legend()\n",
        "\n",
        "plt.figure()\n",
        "\n",
        "# training and validation loss\n",
        "\n",
        "plt.plot(epochs, loss, 'bo', label='training loss')\n",
        "plt.plot(epochs, val_loss, 'b', label='validation loss')\n",
        "plt.title('training and validation loss')\n",
        "plt.legend()\n",
        "\n",
        "plt.show()"
      ],
      "execution_count": 10,
      "outputs": [
        {
          "output_type": "display_data",
          "data": {
            "image/png": "[encoded data removed]",
            "text/plain": [
              "<Figure size 432x288 with 1 Axes>"
            ]
          },
          "metadata": {
            "tags": [],
            "needs_background": "light"
          }
        },
        {
          "output_type": "display_data",
          "data": {
            "image/png": "[encoded data removed]",
            "text/plain": [
              "<Figure size 432x288 with 1 Axes>"
            ]
          },
          "metadata": {
            "tags": [],
            "needs_background": "light"
          }
        }
      ]
    },
    {
      "cell_type": "markdown",
      "metadata": {
        "id": "lOWsxpey8lN0",
        "colab_type": "text"
      },
      "source": [
        "## Fine-tuning"
      ]
    },
    {
      "cell_type": "code",
      "metadata": {
        "id": "T1F1jmbG-tnN",
        "colab_type": "code",
        "outputId": "d9413e0c-7a0c-47af-ac22-af460065f107",
        "colab": {
          "base_uri": "https://localhost:8080/",
          "height": 1000
        }
      },
      "source": [
        "for layer in conv_base.layers:\n",
        "  print(layer.name)"
      ],
      "execution_count": 11,
      "outputs": [
        {
          "output_type": "stream",
          "text": [
            "input_1\n",
            "conv1_pad\n",
            "conv1_conv\n",
            "pool1_pad\n",
            "pool1_pool\n",
            "conv2_block1_preact_bn\n",
            "conv2_block1_preact_relu\n",
            "conv2_block1_1_conv\n",
            "conv2_block1_1_bn\n",
            "conv2_block1_1_relu\n",
            "conv2_block1_2_pad\n",
            "conv2_block1_2_conv\n",
            "conv2_block1_2_bn\n",
            "conv2_block1_2_relu\n",
            "conv2_block1_0_conv\n",
            "conv2_block1_3_conv\n",
            "conv2_block1_out\n",
            "conv2_block2_preact_bn\n",
            "conv2_block2_preact_relu\n",
            "conv2_block2_1_conv\n",
            "conv2_block2_1_bn\n",
            "conv2_block2_1_relu\n",
            "conv2_block2_2_pad\n",
            "conv2_block2_2_conv\n",
            "conv2_block2_2_bn\n",
            "conv2_block2_2_relu\n",
            "conv2_block2_3_conv\n",
            "conv2_block2_out\n",
            "conv2_block3_preact_bn\n",
            "conv2_block3_preact_relu\n",
            "conv2_block3_1_conv\n",
            "conv2_block3_1_bn\n",
            "conv2_block3_1_relu\n",
            "conv2_block3_2_pad\n",
            "conv2_block3_2_conv\n",
            "conv2_block3_2_bn\n",
            "conv2_block3_2_relu\n",
            "max_pooling2d_1\n",
            "conv2_block3_3_conv\n",
            "conv2_block3_out\n",
            "conv3_block1_preact_bn\n",
            "conv3_block1_preact_relu\n",
            "conv3_block1_1_conv\n",
            "conv3_block1_1_bn\n",
            "conv3_block1_1_relu\n",
            "conv3_block1_2_pad\n",
            "conv3_block1_2_conv\n",
            "conv3_block1_2_bn\n",
            "conv3_block1_2_relu\n",
            "conv3_block1_0_conv\n",
            "conv3_block1_3_conv\n",
            "conv3_block1_out\n",
            "conv3_block2_preact_bn\n",
            "conv3_block2_preact_relu\n",
            "conv3_block2_1_conv\n",
            "conv3_block2_1_bn\n",
            "conv3_block2_1_relu\n",
            "conv3_block2_2_pad\n",
            "conv3_block2_2_conv\n",
            "conv3_block2_2_bn\n",
            "conv3_block2_2_relu\n",
            "conv3_block2_3_conv\n",
            "conv3_block2_out\n",
            "conv3_block3_preact_bn\n",
            "conv3_block3_preact_relu\n",
            "conv3_block3_1_conv\n",
            "conv3_block3_1_bn\n",
            "conv3_block3_1_relu\n",
            "conv3_block3_2_pad\n",
            "conv3_block3_2_conv\n",
            "conv3_block3_2_bn\n",
            "conv3_block3_2_relu\n",
            "conv3_block3_3_conv\n",
            "conv3_block3_out\n",
            "conv3_block4_preact_bn\n",
            "conv3_block4_preact_relu\n",
            "conv3_block4_1_conv\n",
            "conv3_block4_1_bn\n",
            "conv3_block4_1_relu\n",
            "conv3_block4_2_pad\n",
            "conv3_block4_2_conv\n",
            "conv3_block4_2_bn\n",
            "conv3_block4_2_relu\n",
            "max_pooling2d_2\n",
            "conv3_block4_3_conv\n",
            "conv3_block4_out\n",
            "conv4_block1_preact_bn\n",
            "conv4_block1_preact_relu\n",
            "conv4_block1_1_conv\n",
            "conv4_block1_1_bn\n",
            "conv4_block1_1_relu\n",
            "conv4_block1_2_pad\n",
            "conv4_block1_2_conv\n",
            "conv4_block1_2_bn\n",
            "conv4_block1_2_relu\n",
            "conv4_block1_0_conv\n",
            "conv4_block1_3_conv\n",
            "conv4_block1_out\n",
            "conv4_block2_preact_bn\n",
            "conv4_block2_preact_relu\n",
            "conv4_block2_1_conv\n",
            "conv4_block2_1_bn\n",
            "conv4_block2_1_relu\n",
            "conv4_block2_2_pad\n",
            "conv4_block2_2_conv\n",
            "conv4_block2_2_bn\n",
            "conv4_block2_2_relu\n",
            "conv4_block2_3_conv\n",
            "conv4_block2_out\n",
            "conv4_block3_preact_bn\n",
            "conv4_block3_preact_relu\n",
            "conv4_block3_1_conv\n",
            "conv4_block3_1_bn\n",
            "conv4_block3_1_relu\n",
            "conv4_block3_2_pad\n",
            "conv4_block3_2_conv\n",
            "conv4_block3_2_bn\n",
            "conv4_block3_2_relu\n",
            "conv4_block3_3_conv\n",
            "conv4_block3_out\n",
            "conv4_block4_preact_bn\n",
            "conv4_block4_preact_relu\n",
            "conv4_block4_1_conv\n",
            "conv4_block4_1_bn\n",
            "conv4_block4_1_relu\n",
            "conv4_block4_2_pad\n",
            "conv4_block4_2_conv\n",
            "conv4_block4_2_bn\n",
            "conv4_block4_2_relu\n",
            "conv4_block4_3_conv\n",
            "conv4_block4_out\n",
            "conv4_block5_preact_bn\n",
            "conv4_block5_preact_relu\n",
            "conv4_block5_1_conv\n",
            "conv4_block5_1_bn\n",
            "conv4_block5_1_relu\n",
            "conv4_block5_2_pad\n",
            "conv4_block5_2_conv\n",
            "conv4_block5_2_bn\n",
            "conv4_block5_2_relu\n",
            "conv4_block5_3_conv\n",
            "conv4_block5_out\n",
            "conv4_block6_preact_bn\n",
            "conv4_block6_preact_relu\n",
            "conv4_block6_1_conv\n",
            "conv4_block6_1_bn\n",
            "conv4_block6_1_relu\n",
            "conv4_block6_2_pad\n",
            "conv4_block6_2_conv\n",
            "conv4_block6_2_bn\n",
            "conv4_block6_2_relu\n",
            "max_pooling2d_3\n",
            "conv4_block6_3_conv\n",
            "conv4_block6_out\n",
            "conv5_block1_preact_bn\n",
            "conv5_block1_preact_relu\n",
            "conv5_block1_1_conv\n",
            "conv5_block1_1_bn\n",
            "conv5_block1_1_relu\n",
            "conv5_block1_2_pad\n",
            "conv5_block1_2_conv\n",
            "conv5_block1_2_bn\n",
            "conv5_block1_2_relu\n",
            "conv5_block1_0_conv\n",
            "conv5_block1_3_conv\n",
            "conv5_block1_out\n",
            "conv5_block2_preact_bn\n",
            "conv5_block2_preact_relu\n",
            "conv5_block2_1_conv\n",
            "conv5_block2_1_bn\n",
            "conv5_block2_1_relu\n",
            "conv5_block2_2_pad\n",
            "conv5_block2_2_conv\n",
            "conv5_block2_2_bn\n",
            "conv5_block2_2_relu\n",
            "conv5_block2_3_conv\n",
            "conv5_block2_out\n",
            "conv5_block3_preact_bn\n",
            "conv5_block3_preact_relu\n",
            "conv5_block3_1_conv\n",
            "conv5_block3_1_bn\n",
            "conv5_block3_1_relu\n",
            "conv5_block3_2_pad\n",
            "conv5_block3_2_conv\n",
            "conv5_block3_2_bn\n",
            "conv5_block3_2_relu\n",
            "conv5_block3_3_conv\n",
            "conv5_block3_out\n",
            "post_bn\n",
            "post_relu\n"
          ],
          "name": "stdout"
        }
      ]
    },
    {
      "cell_type": "code",
      "metadata": {
        "id": "PwkVMx8N8qMw",
        "colab_type": "code",
        "colab": {}
      },
      "source": [
        "conv_base.trainable = True\n",
        "\n",
        "set_trainable = False\n",
        "for layer in conv_base.layers:\n",
        "  if layer.name == 'conv5_block1_preact_bn':\n",
        "    set_trainable = True\n",
        "  if set_trainable:\n",
        "    layer.trainable = True\n",
        "  else:\n",
        "    layer.trainable = False"
      ],
      "execution_count": 0,
      "outputs": []
    },
    {
      "cell_type": "code",
      "metadata": {
        "id": "DyN-J7rs9cvo",
        "colab_type": "code",
        "outputId": "9149bbee-2fe0-400a-dece-764e7431e6da",
        "colab": {
          "base_uri": "https://localhost:8080/",
          "height": 1000
        }
      },
      "source": [
        "# compile model\n",
        "\n",
        "model.compile(\n",
        "    loss='binary_crossentropy',\n",
        "    #\n",
        "    # choose a smaller learning rate\n",
        "    #\n",
        "    optimizer=optimizers.RMSprop(lr=1e-5), \n",
        "    metrics=['acc'])\n",
        "\n",
        "# train\n",
        "\n",
        "history = model.fit_generator(\n",
        "    train_generator,\n",
        "    steps_per_epoch=100,\n",
        "    epochs=100,\n",
        "    validation_data=validation_generator,\n",
        "    validation_steps=50)"
      ],
      "execution_count": 13,
      "outputs": [
        {
          "output_type": "stream",
          "text": [
            "Epoch 1/100\n",
            "100/100 [==============================] - 27s 271ms/step - loss: 0.2116 - acc: 0.9090 - val_loss: 1.0638 - val_acc: 0.9420\n",
            "Epoch 2/100\n",
            "100/100 [==============================] - 22s 215ms/step - loss: 0.1999 - acc: 0.9260 - val_loss: 0.2144 - val_acc: 0.9400\n",
            "Epoch 3/100\n",
            "100/100 [==============================] - 22s 218ms/step - loss: 0.1722 - acc: 0.9310 - val_loss: 0.2417 - val_acc: 0.9370\n",
            "Epoch 4/100\n",
            "100/100 [==============================] - 22s 217ms/step - loss: 0.1667 - acc: 0.9295 - val_loss: 0.2850 - val_acc: 0.9410\n",
            "Epoch 5/100\n",
            "100/100 [==============================] - 22s 216ms/step - loss: 0.1645 - acc: 0.9305 - val_loss: 0.2534 - val_acc: 0.9460\n",
            "Epoch 6/100\n",
            "100/100 [==============================] - 21s 214ms/step - loss: 0.1665 - acc: 0.9335 - val_loss: 0.1002 - val_acc: 0.9470\n",
            "Epoch 7/100\n",
            "100/100 [==============================] - 22s 215ms/step - loss: 0.1773 - acc: 0.9330 - val_loss: 0.0209 - val_acc: 0.9450\n",
            "Epoch 8/100\n",
            "100/100 [==============================] - 22s 215ms/step - loss: 0.1499 - acc: 0.9430 - val_loss: 0.0310 - val_acc: 0.9440\n",
            "Epoch 9/100\n",
            "100/100 [==============================] - 22s 215ms/step - loss: 0.1529 - acc: 0.9385 - val_loss: 0.3244 - val_acc: 0.9420\n",
            "Epoch 10/100\n",
            "100/100 [==============================] - 21s 215ms/step - loss: 0.1502 - acc: 0.9365 - val_loss: 0.0660 - val_acc: 0.9480\n",
            "Epoch 11/100\n",
            "100/100 [==============================] - 22s 216ms/step - loss: 0.1531 - acc: 0.9410 - val_loss: 0.0729 - val_acc: 0.9410\n",
            "Epoch 12/100\n",
            "100/100 [==============================] - 21s 215ms/step - loss: 0.1432 - acc: 0.9440 - val_loss: 0.3285 - val_acc: 0.9430\n",
            "Epoch 13/100\n",
            "100/100 [==============================] - 21s 214ms/step - loss: 0.1498 - acc: 0.9405 - val_loss: 0.1899 - val_acc: 0.9420\n",
            "Epoch 14/100\n",
            "100/100 [==============================] - 22s 215ms/step - loss: 0.1315 - acc: 0.9455 - val_loss: 0.0011 - val_acc: 0.9410\n",
            "Epoch 15/100\n",
            "100/100 [==============================] - 22s 218ms/step - loss: 0.1455 - acc: 0.9455 - val_loss: 0.3597 - val_acc: 0.9420\n",
            "Epoch 16/100\n",
            "100/100 [==============================] - 22s 216ms/step - loss: 0.1347 - acc: 0.9475 - val_loss: 0.1658 - val_acc: 0.9480\n",
            "Epoch 17/100\n",
            "100/100 [==============================] - 22s 217ms/step - loss: 0.1310 - acc: 0.9485 - val_loss: 0.0457 - val_acc: 0.9460\n",
            "Epoch 18/100\n",
            "100/100 [==============================] - 22s 216ms/step - loss: 0.1398 - acc: 0.9445 - val_loss: 0.3558 - val_acc: 0.9440\n",
            "Epoch 19/100\n",
            "100/100 [==============================] - 22s 217ms/step - loss: 0.1130 - acc: 0.9550 - val_loss: 0.2322 - val_acc: 0.9520\n",
            "Epoch 20/100\n",
            "100/100 [==============================] - 22s 219ms/step - loss: 0.1055 - acc: 0.9595 - val_loss: 0.0552 - val_acc: 0.9460\n",
            "Epoch 21/100\n",
            "100/100 [==============================] - 22s 224ms/step - loss: 0.0991 - acc: 0.9630 - val_loss: 0.3788 - val_acc: 0.9450\n",
            "Epoch 22/100\n",
            "100/100 [==============================] - 23s 225ms/step - loss: 0.0974 - acc: 0.9590 - val_loss: 0.0812 - val_acc: 0.9470\n",
            "Epoch 23/100\n",
            "100/100 [==============================] - 22s 220ms/step - loss: 0.1177 - acc: 0.9595 - val_loss: 0.2524 - val_acc: 0.9530\n",
            "Epoch 24/100\n",
            "100/100 [==============================] - 22s 217ms/step - loss: 0.1199 - acc: 0.9575 - val_loss: 0.2841 - val_acc: 0.9490\n",
            "Epoch 25/100\n",
            "100/100 [==============================] - 22s 217ms/step - loss: 0.1121 - acc: 0.9575 - val_loss: 0.0211 - val_acc: 0.9510\n",
            "Epoch 26/100\n",
            "100/100 [==============================] - 22s 218ms/step - loss: 0.0894 - acc: 0.9645 - val_loss: 0.3121 - val_acc: 0.9490\n",
            "Epoch 27/100\n",
            "100/100 [==============================] - 22s 216ms/step - loss: 0.0939 - acc: 0.9665 - val_loss: 0.0066 - val_acc: 0.9500\n",
            "Epoch 28/100\n",
            "100/100 [==============================] - 22s 217ms/step - loss: 0.1182 - acc: 0.9585 - val_loss: 0.0806 - val_acc: 0.9460\n",
            "Epoch 29/100\n",
            "100/100 [==============================] - 22s 217ms/step - loss: 0.1057 - acc: 0.9620 - val_loss: 0.2027 - val_acc: 0.9500\n",
            "Epoch 30/100\n",
            "100/100 [==============================] - 22s 217ms/step - loss: 0.0937 - acc: 0.9680 - val_loss: 0.0079 - val_acc: 0.9540\n",
            "Epoch 31/100\n",
            "100/100 [==============================] - 22s 218ms/step - loss: 0.0669 - acc: 0.9730 - val_loss: 0.3093 - val_acc: 0.9470\n",
            "Epoch 32/100\n",
            "100/100 [==============================] - 22s 219ms/step - loss: 0.0845 - acc: 0.9635 - val_loss: 0.0262 - val_acc: 0.9490\n",
            "Epoch 33/100\n",
            "100/100 [==============================] - 22s 219ms/step - loss: 0.0965 - acc: 0.9645 - val_loss: 0.0099 - val_acc: 0.9540\n",
            "Epoch 34/100\n",
            "100/100 [==============================] - 22s 218ms/step - loss: 0.0824 - acc: 0.9695 - val_loss: 0.0379 - val_acc: 0.9520\n",
            "Epoch 35/100\n",
            "100/100 [==============================] - 22s 216ms/step - loss: 0.0897 - acc: 0.9660 - val_loss: 0.1184 - val_acc: 0.9520\n",
            "Epoch 36/100\n",
            "100/100 [==============================] - 22s 217ms/step - loss: 0.0914 - acc: 0.9665 - val_loss: 0.2262 - val_acc: 0.9500\n",
            "Epoch 37/100\n",
            "100/100 [==============================] - 22s 217ms/step - loss: 0.0778 - acc: 0.9760 - val_loss: 0.4497 - val_acc: 0.9520\n",
            "Epoch 38/100\n",
            "100/100 [==============================] - 22s 219ms/step - loss: 0.0633 - acc: 0.9775 - val_loss: 0.7237 - val_acc: 0.9490\n",
            "Epoch 39/100\n",
            "100/100 [==============================] - 22s 217ms/step - loss: 0.0829 - acc: 0.9660 - val_loss: 0.0350 - val_acc: 0.9500\n",
            "Epoch 40/100\n",
            "100/100 [==============================] - 22s 219ms/step - loss: 0.0837 - acc: 0.9700 - val_loss: 0.3197 - val_acc: 0.9540\n",
            "Epoch 41/100\n",
            "100/100 [==============================] - 22s 218ms/step - loss: 0.0754 - acc: 0.9735 - val_loss: 0.2474 - val_acc: 0.9520\n",
            "Epoch 42/100\n",
            "100/100 [==============================] - 22s 216ms/step - loss: 0.0667 - acc: 0.9715 - val_loss: 0.0928 - val_acc: 0.9440\n",
            "Epoch 43/100\n",
            "100/100 [==============================] - 22s 218ms/step - loss: 0.0923 - acc: 0.9640 - val_loss: 0.4574 - val_acc: 0.9460\n",
            "Epoch 44/100\n",
            "100/100 [==============================] - 22s 218ms/step - loss: 0.0597 - acc: 0.9765 - val_loss: 0.0197 - val_acc: 0.9520\n",
            "Epoch 45/100\n",
            "100/100 [==============================] - 22s 217ms/step - loss: 0.0781 - acc: 0.9715 - val_loss: 0.1133 - val_acc: 0.9510\n",
            "Epoch 46/100\n",
            "100/100 [==============================] - 22s 219ms/step - loss: 0.0844 - acc: 0.9760 - val_loss: 0.1569 - val_acc: 0.9550\n",
            "Epoch 47/100\n",
            "100/100 [==============================] - 22s 218ms/step - loss: 0.0885 - acc: 0.9690 - val_loss: 0.6188 - val_acc: 0.9540\n",
            "Epoch 48/100\n",
            "100/100 [==============================] - 22s 217ms/step - loss: 0.0754 - acc: 0.9725 - val_loss: 6.5972e-04 - val_acc: 0.9500\n",
            "Epoch 49/100\n",
            "100/100 [==============================] - 21s 215ms/step - loss: 0.0573 - acc: 0.9830 - val_loss: 0.0035 - val_acc: 0.9500\n",
            "Epoch 50/100\n",
            "100/100 [==============================] - 21s 212ms/step - loss: 0.0537 - acc: 0.9750 - val_loss: 0.1480 - val_acc: 0.9450\n",
            "Epoch 51/100\n",
            "100/100 [==============================] - 21s 213ms/step - loss: 0.0746 - acc: 0.9760 - val_loss: 0.1002 - val_acc: 0.9490\n",
            "Epoch 52/100\n",
            "100/100 [==============================] - 21s 214ms/step - loss: 0.0755 - acc: 0.9755 - val_loss: 0.0071 - val_acc: 0.9490\n",
            "Epoch 53/100\n",
            "100/100 [==============================] - 21s 210ms/step - loss: 0.0501 - acc: 0.9820 - val_loss: 0.6682 - val_acc: 0.9490\n",
            "Epoch 54/100\n",
            "100/100 [==============================] - 21s 213ms/step - loss: 0.0580 - acc: 0.9780 - val_loss: 0.1198 - val_acc: 0.9530\n",
            "Epoch 55/100\n",
            "100/100 [==============================] - 21s 212ms/step - loss: 0.0715 - acc: 0.9740 - val_loss: 0.5841 - val_acc: 0.9530\n",
            "Epoch 56/100\n",
            "100/100 [==============================] - 21s 210ms/step - loss: 0.0667 - acc: 0.9760 - val_loss: 0.0904 - val_acc: 0.9510\n",
            "Epoch 57/100\n",
            "100/100 [==============================] - 21s 210ms/step - loss: 0.0620 - acc: 0.9755 - val_loss: 0.4661 - val_acc: 0.9510\n",
            "Epoch 58/100\n",
            "100/100 [==============================] - 21s 212ms/step - loss: 0.0578 - acc: 0.9765 - val_loss: 5.6956e-05 - val_acc: 0.9510\n",
            "Epoch 59/100\n",
            "100/100 [==============================] - 21s 212ms/step - loss: 0.0551 - acc: 0.9815 - val_loss: 0.0907 - val_acc: 0.9560\n",
            "Epoch 60/100\n",
            "100/100 [==============================] - 21s 211ms/step - loss: 0.0742 - acc: 0.9745 - val_loss: 0.0697 - val_acc: 0.9550\n",
            "Epoch 61/100\n",
            "100/100 [==============================] - 21s 211ms/step - loss: 0.0661 - acc: 0.9765 - val_loss: 0.0056 - val_acc: 0.9480\n",
            "Epoch 62/100\n",
            "100/100 [==============================] - 21s 211ms/step - loss: 0.0641 - acc: 0.9770 - val_loss: 0.5974 - val_acc: 0.9540\n",
            "Epoch 63/100\n",
            "100/100 [==============================] - 21s 210ms/step - loss: 0.0470 - acc: 0.9815 - val_loss: 0.0236 - val_acc: 0.9490\n",
            "Epoch 64/100\n",
            "100/100 [==============================] - 21s 209ms/step - loss: 0.0631 - acc: 0.9815 - val_loss: 0.0292 - val_acc: 0.9570\n",
            "Epoch 65/100\n",
            "100/100 [==============================] - 21s 210ms/step - loss: 0.0418 - acc: 0.9845 - val_loss: 0.0349 - val_acc: 0.9570\n",
            "Epoch 66/100\n",
            "100/100 [==============================] - 21s 209ms/step - loss: 0.0587 - acc: 0.9770 - val_loss: 0.5424 - val_acc: 0.9540\n",
            "Epoch 67/100\n",
            "100/100 [==============================] - 21s 211ms/step - loss: 0.0441 - acc: 0.9855 - val_loss: 0.2953 - val_acc: 0.9540\n",
            "Epoch 68/100\n",
            "100/100 [==============================] - 21s 209ms/step - loss: 0.0553 - acc: 0.9815 - val_loss: 0.3184 - val_acc: 0.9530\n",
            "Epoch 69/100\n",
            "100/100 [==============================] - 21s 210ms/step - loss: 0.0434 - acc: 0.9830 - val_loss: 0.2686 - val_acc: 0.9570\n",
            "Epoch 70/100\n",
            "100/100 [==============================] - 21s 212ms/step - loss: 0.0399 - acc: 0.9840 - val_loss: 1.6696e-05 - val_acc: 0.9550\n",
            "Epoch 71/100\n",
            "100/100 [==============================] - 21s 211ms/step - loss: 0.0529 - acc: 0.9800 - val_loss: 6.6015e-04 - val_acc: 0.9550\n",
            "Epoch 72/100\n",
            "100/100 [==============================] - 21s 212ms/step - loss: 0.0603 - acc: 0.9765 - val_loss: 0.4584 - val_acc: 0.9570\n",
            "Epoch 73/100\n",
            "100/100 [==============================] - 21s 211ms/step - loss: 0.0612 - acc: 0.9820 - val_loss: 0.5531 - val_acc: 0.9530\n",
            "Epoch 74/100\n",
            "100/100 [==============================] - 21s 212ms/step - loss: 0.0578 - acc: 0.9790 - val_loss: 0.0025 - val_acc: 0.9540\n",
            "Epoch 75/100\n",
            "100/100 [==============================] - 21s 214ms/step - loss: 0.0317 - acc: 0.9870 - val_loss: 0.0282 - val_acc: 0.9530\n",
            "Epoch 76/100\n",
            "100/100 [==============================] - 21s 210ms/step - loss: 0.0510 - acc: 0.9855 - val_loss: 0.0409 - val_acc: 0.9550\n",
            "Epoch 77/100\n",
            "100/100 [==============================] - 21s 210ms/step - loss: 0.0430 - acc: 0.9845 - val_loss: 0.1202 - val_acc: 0.9560\n",
            "Epoch 78/100\n",
            "100/100 [==============================] - 21s 213ms/step - loss: 0.0440 - acc: 0.9860 - val_loss: 0.2181 - val_acc: 0.9520\n",
            "Epoch 79/100\n",
            "100/100 [==============================] - 21s 210ms/step - loss: 0.0517 - acc: 0.9830 - val_loss: 0.0015 - val_acc: 0.9510\n",
            "Epoch 80/100\n",
            "100/100 [==============================] - 21s 211ms/step - loss: 0.0392 - acc: 0.9880 - val_loss: 0.0999 - val_acc: 0.9530\n",
            "Epoch 81/100\n",
            "100/100 [==============================] - 21s 210ms/step - loss: 0.0499 - acc: 0.9835 - val_loss: 0.0060 - val_acc: 0.9500\n",
            "Epoch 82/100\n",
            "100/100 [==============================] - 21s 214ms/step - loss: 0.0410 - acc: 0.9840 - val_loss: 0.2975 - val_acc: 0.9490\n",
            "Epoch 83/100\n",
            "100/100 [==============================] - 22s 215ms/step - loss: 0.0673 - acc: 0.9775 - val_loss: 0.0063 - val_acc: 0.9480\n",
            "Epoch 84/100\n",
            "100/100 [==============================] - 22s 222ms/step - loss: 0.0343 - acc: 0.9870 - val_loss: 0.1725 - val_acc: 0.9490\n",
            "Epoch 85/100\n",
            "100/100 [==============================] - 22s 215ms/step - loss: 0.0349 - acc: 0.9865 - val_loss: 0.4192 - val_acc: 0.9480\n",
            "Epoch 86/100\n",
            "100/100 [==============================] - 21s 214ms/step - loss: 0.0539 - acc: 0.9820 - val_loss: 0.5764 - val_acc: 0.9560\n",
            "Epoch 87/100\n",
            "100/100 [==============================] - 21s 211ms/step - loss: 0.0518 - acc: 0.9840 - val_loss: 0.2086 - val_acc: 0.9550\n",
            "Epoch 88/100\n",
            "100/100 [==============================] - 21s 211ms/step - loss: 0.0428 - acc: 0.9865 - val_loss: 8.2291e-04 - val_acc: 0.9540\n",
            "Epoch 89/100\n",
            "100/100 [==============================] - 21s 210ms/step - loss: 0.0302 - acc: 0.9885 - val_loss: 0.0187 - val_acc: 0.9500\n",
            "Epoch 90/100\n",
            "100/100 [==============================] - 21s 213ms/step - loss: 0.0545 - acc: 0.9845 - val_loss: 0.0078 - val_acc: 0.9520\n",
            "Epoch 91/100\n",
            "100/100 [==============================] - 21s 209ms/step - loss: 0.0503 - acc: 0.9800 - val_loss: 0.2728 - val_acc: 0.9500\n",
            "Epoch 92/100\n",
            "100/100 [==============================] - 21s 209ms/step - loss: 0.0393 - acc: 0.9845 - val_loss: 0.0127 - val_acc: 0.9550\n",
            "Epoch 93/100\n",
            "100/100 [==============================] - 21s 211ms/step - loss: 0.0572 - acc: 0.9845 - val_loss: 0.0782 - val_acc: 0.9500\n",
            "Epoch 94/100\n",
            "100/100 [==============================] - 21s 210ms/step - loss: 0.0329 - acc: 0.9860 - val_loss: 0.4195 - val_acc: 0.9550\n",
            "Epoch 95/100\n",
            "100/100 [==============================] - 21s 209ms/step - loss: 0.0280 - acc: 0.9895 - val_loss: 0.0013 - val_acc: 0.9560\n",
            "Epoch 96/100\n",
            "100/100 [==============================] - 21s 210ms/step - loss: 0.0392 - acc: 0.9850 - val_loss: 4.6782e-06 - val_acc: 0.9500\n",
            "Epoch 97/100\n",
            "100/100 [==============================] - 21s 213ms/step - loss: 0.0322 - acc: 0.9890 - val_loss: 0.5487 - val_acc: 0.9480\n",
            "Epoch 98/100\n",
            "100/100 [==============================] - 21s 210ms/step - loss: 0.0423 - acc: 0.9875 - val_loss: 0.4183 - val_acc: 0.9480\n",
            "Epoch 99/100\n",
            "100/100 [==============================] - 21s 212ms/step - loss: 0.0390 - acc: 0.9860 - val_loss: 0.3544 - val_acc: 0.9470\n",
            "Epoch 100/100\n",
            "100/100 [==============================] - 21s 211ms/step - loss: 0.0642 - acc: 0.9815 - val_loss: 0.8284 - val_acc: 0.9530\n"
          ],
          "name": "stdout"
        }
      ]
    },
    {
      "cell_type": "markdown",
      "metadata": {
        "id": "eVBQgh5M-Rtz",
        "colab_type": "text"
      },
      "source": [
        "## Display learning curves during fine-tuning"
      ]
    },
    {
      "cell_type": "code",
      "metadata": {
        "id": "mbkIw7Ie-NP4",
        "colab_type": "code",
        "outputId": "c4368e34-18db-47d3-aecd-3272255c1bf8",
        "colab": {
          "base_uri": "https://localhost:8080/",
          "height": 545
        }
      },
      "source": [
        "%matplotlib inline\n",
        "\n",
        "import matplotlib.pyplot as plt\n",
        "\n",
        "acc = history.history['acc']\n",
        "val_acc = history.history['val_acc']\n",
        "\n",
        "loss = history.history['loss']\n",
        "val_loss = history.history['val_loss']\n",
        "\n",
        "epochs = range(1, len(acc) + 1)\n",
        "\n",
        "# training and validation accuracy\n",
        "\n",
        "plt.plot(epochs, acc, 'bo', label='training acc')\n",
        "plt.plot(epochs, val_acc, 'b', label='validation acc')\n",
        "plt.title('training and validation accuracy')\n",
        "plt.legend()\n",
        "\n",
        "plt.figure()\n",
        "\n",
        "# training and validation loss\n",
        "\n",
        "plt.plot(epochs, loss, 'bo', label='training loss')\n",
        "plt.plot(epochs, val_loss, 'b', label='validation loss')\n",
        "plt.title('training and validation loss')\n",
        "plt.legend()\n",
        "\n",
        "plt.show()"
      ],
      "execution_count": 14,
      "outputs": [
        {
          "output_type": "display_data",
          "data": {
            "image/png": "[encoded data removed]",
            "text/plain": [
              "<Figure size 432x288 with 1 Axes>"
            ]
          },
          "metadata": {
            "tags": [],
            "needs_background": "light"
          }
        },
        {
          "output_type": "display_data",
          "data": {
            "image/png": "[encoded data removed]",
            "text/plain": [
              "<Figure size 432x288 with 1 Axes>"
            ]
          },
          "metadata": {
            "tags": [],
            "needs_background": "light"
          }
        }
      ]
    },
    {
      "cell_type": "markdown",
      "metadata": {
        "id": "obQi6N4ZShdi",
        "colab_type": "text"
      },
      "source": [
        "This looks like overfitting. I should try  adding dropout for the densely connected layer."
      ]
    },
    {
      "cell_type": "markdown",
      "metadata": {
        "id": "he3Nw6TOJwjx",
        "colab_type": "text"
      },
      "source": [
        "## Print out validation loss and accuracy"
      ]
    },
    {
      "cell_type": "code",
      "metadata": {
        "id": "SVQtrk7uJdhl",
        "colab_type": "code",
        "colab": {}
      },
      "source": [
        "val_loss, val_acc = model.evaluate_generator(validation_generator, steps=50)"
      ],
      "execution_count": 0,
      "outputs": []
    },
    {
      "cell_type": "code",
      "metadata": {
        "id": "HpdddLi1SUMe",
        "colab_type": "code",
        "outputId": "2409f179-b6e5-4b2e-d131-405ad1d285bd",
        "colab": {
          "base_uri": "https://localhost:8080/",
          "height": 50
        }
      },
      "source": [
        "print(\"Validation loss:\", val_loss)\n",
        "print(\"Validation accuracy:\", val_acc)"
      ],
      "execution_count": 16,
      "outputs": [
        {
          "output_type": "stream",
          "text": [
            "Validation loss: 0.011346681043505669\n",
            "Validation accuracy: 0.953000009059906\n"
          ],
          "name": "stdout"
        }
      ]
    },
    {
      "cell_type": "markdown",
      "metadata": {
        "id": "7Ww756WToby8",
        "colab_type": "text"
      },
      "source": [
        "## Save the model"
      ]
    },
    {
      "cell_type": "code",
      "metadata": {
        "id": "0lTUpUdwobKW",
        "colab_type": "code",
        "colab": {}
      },
      "source": [
        "model_fname = 'cats_and_dogs_small_4.h5' \n",
        "model.save(model_fname)"
      ],
      "execution_count": 0,
      "outputs": []
    },
    {
      "cell_type": "code",
      "metadata": {
        "id": "YhEoI8ZTok-X",
        "colab_type": "code",
        "outputId": "512a6857-429d-4948-ff94-10223bdb33a6",
        "colab": {
          "base_uri": "https://localhost:8080/",
          "height": 337
        }
      },
      "source": [
        "from google.colab import files\n",
        "\n",
        "with open(model_fname, 'r') as f:\n",
        "  files.download(model_fname)"
      ],
      "execution_count": 18,
      "outputs": [
        {
          "output_type": "error",
          "ename": "KeyboardInterrupt",
          "evalue": "ignored",
          "traceback": [
            "\u001b[0;31m---------------------------------------------------------------------------\u001b[0m",
            "\u001b[0;31mKeyboardInterrupt\u001b[0m                         Traceback (most recent call last)",
            "\u001b[0;32m<ipython-input-18-9a4221e8fa3a>\u001b[0m in \u001b[0;36m<module>\u001b[0;34m()\u001b[0m\n\u001b[1;32m      2\u001b[0m \u001b[0;34m\u001b[0m\u001b[0m\n\u001b[1;32m      3\u001b[0m \u001b[0;32mwith\u001b[0m \u001b[0mopen\u001b[0m\u001b[0;34m(\u001b[0m\u001b[0mmodel_fname\u001b[0m\u001b[0;34m,\u001b[0m \u001b[0;34m'r'\u001b[0m\u001b[0;34m)\u001b[0m \u001b[0;32mas\u001b[0m \u001b[0mf\u001b[0m\u001b[0;34m:\u001b[0m\u001b[0;34m\u001b[0m\u001b[0;34m\u001b[0m\u001b[0m\n\u001b[0;32m----> 4\u001b[0;31m   \u001b[0mfiles\u001b[0m\u001b[0;34m.\u001b[0m\u001b[0mdownload\u001b[0m\u001b[0;34m(\u001b[0m\u001b[0mmodel_fname\u001b[0m\u001b[0;34m)\u001b[0m\u001b[0;34m\u001b[0m\u001b[0;34m\u001b[0m\u001b[0m\n\u001b[0m",
            "\u001b[0;32m/usr/local/lib/python3.6/dist-packages/google/colab/files.py\u001b[0m in \u001b[0;36mdownload\u001b[0;34m(filename)\u001b[0m\n\u001b[1;32m    176\u001b[0m       \u001b[0;34m'port'\u001b[0m\u001b[0;34m:\u001b[0m \u001b[0mport\u001b[0m\u001b[0;34m,\u001b[0m\u001b[0;34m\u001b[0m\u001b[0;34m\u001b[0m\u001b[0m\n\u001b[1;32m    177\u001b[0m       \u001b[0;34m'path'\u001b[0m\u001b[0;34m:\u001b[0m \u001b[0m_os\u001b[0m\u001b[0;34m.\u001b[0m\u001b[0mpath\u001b[0m\u001b[0;34m.\u001b[0m\u001b[0mabspath\u001b[0m\u001b[0;34m(\u001b[0m\u001b[0mfilename\u001b[0m\u001b[0;34m)\u001b[0m\u001b[0;34m,\u001b[0m\u001b[0;34m\u001b[0m\u001b[0;34m\u001b[0m\u001b[0m\n\u001b[0;32m--> 178\u001b[0;31m       \u001b[0;34m'name'\u001b[0m\u001b[0;34m:\u001b[0m \u001b[0m_os\u001b[0m\u001b[0;34m.\u001b[0m\u001b[0mpath\u001b[0m\u001b[0;34m.\u001b[0m\u001b[0mbasename\u001b[0m\u001b[0;34m(\u001b[0m\u001b[0mfilename\u001b[0m\u001b[0;34m)\u001b[0m\u001b[0;34m,\u001b[0m\u001b[0;34m\u001b[0m\u001b[0;34m\u001b[0m\u001b[0m\n\u001b[0m\u001b[1;32m    179\u001b[0m   })\n",
            "\u001b[0;32m/usr/local/lib/python3.6/dist-packages/google/colab/output/_js.py\u001b[0m in \u001b[0;36meval_js\u001b[0;34m(script, ignore_result)\u001b[0m\n\u001b[1;32m     37\u001b[0m   \u001b[0;32mif\u001b[0m \u001b[0mignore_result\u001b[0m\u001b[0;34m:\u001b[0m\u001b[0;34m\u001b[0m\u001b[0;34m\u001b[0m\u001b[0m\n\u001b[1;32m     38\u001b[0m     \u001b[0;32mreturn\u001b[0m\u001b[0;34m\u001b[0m\u001b[0;34m\u001b[0m\u001b[0m\n\u001b[0;32m---> 39\u001b[0;31m   \u001b[0;32mreturn\u001b[0m \u001b[0m_message\u001b[0m\u001b[0;34m.\u001b[0m\u001b[0mread_reply_from_input\u001b[0m\u001b[0;34m(\u001b[0m\u001b[0mrequest_id\u001b[0m\u001b[0;34m)\u001b[0m\u001b[0;34m\u001b[0m\u001b[0;34m\u001b[0m\u001b[0m\n\u001b[0m\u001b[1;32m     40\u001b[0m \u001b[0;34m\u001b[0m\u001b[0m\n\u001b[1;32m     41\u001b[0m \u001b[0;34m\u001b[0m\u001b[0m\n",
            "\u001b[0;32m/usr/local/lib/python3.6/dist-packages/google/colab/_message.py\u001b[0m in \u001b[0;36mread_reply_from_input\u001b[0;34m(message_id, timeout_sec)\u001b[0m\n\u001b[1;32m     99\u001b[0m     \u001b[0mreply\u001b[0m \u001b[0;34m=\u001b[0m \u001b[0m_read_next_input_message\u001b[0m\u001b[0;34m(\u001b[0m\u001b[0;34m)\u001b[0m\u001b[0;34m\u001b[0m\u001b[0;34m\u001b[0m\u001b[0m\n\u001b[1;32m    100\u001b[0m     \u001b[0;32mif\u001b[0m \u001b[0mreply\u001b[0m \u001b[0;34m==\u001b[0m \u001b[0m_NOT_READY\u001b[0m \u001b[0;32mor\u001b[0m \u001b[0;32mnot\u001b[0m \u001b[0misinstance\u001b[0m\u001b[0;34m(\u001b[0m\u001b[0mreply\u001b[0m\u001b[0;34m,\u001b[0m \u001b[0mdict\u001b[0m\u001b[0;34m)\u001b[0m\u001b[0;34m:\u001b[0m\u001b[0;34m\u001b[0m\u001b[0;34m\u001b[0m\u001b[0m\n\u001b[0;32m--> 101\u001b[0;31m       \u001b[0mtime\u001b[0m\u001b[0;34m.\u001b[0m\u001b[0msleep\u001b[0m\u001b[0;34m(\u001b[0m\u001b[0;36m0.025\u001b[0m\u001b[0;34m)\u001b[0m\u001b[0;34m\u001b[0m\u001b[0;34m\u001b[0m\u001b[0m\n\u001b[0m\u001b[1;32m    102\u001b[0m       \u001b[0;32mcontinue\u001b[0m\u001b[0;34m\u001b[0m\u001b[0;34m\u001b[0m\u001b[0m\n\u001b[1;32m    103\u001b[0m     if (reply.get('type') == 'colab_reply' and\n",
            "\u001b[0;31mKeyboardInterrupt\u001b[0m: "
          ]
        }
      ]
    },
    {
      "cell_type": "code",
      "metadata": {
        "id": "VNEL4CCcS0Oj",
        "colab_type": "code",
        "colab": {}
      },
      "source": [
        ""
      ],
      "execution_count": 0,
      "outputs": []
    }
  ]
}